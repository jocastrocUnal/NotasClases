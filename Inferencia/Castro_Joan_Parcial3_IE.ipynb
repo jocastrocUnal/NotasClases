{
 "cells": [
  {
   "cell_type": "markdown",
   "id": "4fb580f1-4dd7-46c1-84f2-b62b23a2d4b2",
   "metadata": {},
   "source": [
    "## Desarrollo Parcial 3 Parte B\n",
    "\n",
    "Inferencia Estadística\n",
    "\n",
    "Profesor Mario Arrieta\n",
    "\n",
    "Presenta: Joan Nicolas Castro Cortes - Estadística\n",
    "\n"
   ]
  },
  {
   "cell_type": "markdown",
   "id": "1f7b928b-3d9f-4c51-9dc9-0040653cabe6",
   "metadata": {},
   "source": [
    "."
   ]
  },
  {
   "cell_type": "markdown",
   "id": "f304f395-c81f-4ce9-9dd3-fe8fd7424f59",
   "metadata": {},
   "source": [
    "### **(1)**\n",
    "Sea $X_1,X_2,\\ldots,X_n$ una muestra aleatoria de una población con función de densidad\n",
    "\n",
    "$$\n",
    "\\begin{split}\n",
    "f_X(x,\\theta) \n",
    "& = \\frac{2x}{\\theta^2} I_{(0,\\theta)}(x)\n",
    "\\end{split}\n",
    "$$\n",
    "\n",
    "con $\\theta > 0$."
   ]
  },
  {
   "cell_type": "markdown",
   "id": "7c659583-207e-4635-b366-fe51c669d648",
   "metadata": {},
   "source": [
    "#### **(a)**\n",
    "Construya un intervalo de confianza exacto de $100(1-\\alpha)\\%$ para $\\theta$.\n",
    "\n",
    "***Solución:***"
   ]
  },
  {
   "cell_type": "markdown",
   "id": "07ddb7e4-5387-41c6-834d-20ed29f44563",
   "metadata": {},
   "source": [
    "Dada la función de  densidad $f_X$ encontramos su función de distribución $F_X$\n",
    "\n",
    "$$\n",
    "\\begin{split}\n",
    "F_X(x,\\theta)\n",
    "& = \\int_{-\\infty}^{x} f_X(t,\\theta) dt \\\\\n",
    "& = \\int_{-\\infty}^{x} \\frac{2t}{\\theta^2} I_{(0,\\theta)}(t) dt \\\\\n",
    "& = \\begin{cases}\n",
    "        \\int_{0}^{0} \\frac{2t}{\\theta^2} dt & t \\leq 0 \\\\\n",
    "        \\int_{0}^{x} \\frac{2t}{\\theta^2} dt & t \\in (0,\\theta) \\\\\n",
    "        \\int_{0}^{\\theta} \\frac{2t}{\\theta^2} dt & t \\geq \\theta \\\\\n",
    "    \\end{cases}\\\\\n",
    "& = \\begin{cases}\n",
    "        0  & x \\leq 0 \\\\\n",
    "         \\frac{2}{\\theta^2}\\int_{0}^{x} t  dt  & t \\in (0,\\theta) \\\\\n",
    "        1 & x \\geq \\theta \\\\\n",
    "    \\end{cases}\\\\\n",
    "& = \\begin{cases}\n",
    "        0  & x \\leq 0 \\\\\n",
    "        \\frac{2}{\\theta^2}\\left[\\frac{t^2}{2}\\right]_{0}^{x}  & x \\in (0,\\theta) \\\\\n",
    "        1 & x \\geq \\theta \\\\\n",
    "    \\end{cases}\\\\\n",
    "& = \\begin{cases}\n",
    "        0  & x \\leq 0 \\\\\n",
    "        \\frac{x^2}{\\theta^2}  & x \\in (0,\\theta) \\\\\n",
    "        1 & x \\geq \\theta \\\\\n",
    "    \\end{cases}\\\\\n",
    "\\end{split}\n",
    "$$\n",
    "\n",
    "\n",
    "Vamos a  usar el método de construcción de una variable pivote general visto en clase\n",
    "\n",
    "---\n",
    "\n",
    "Sea $X_{1}, X_{2}, \\ldots, X_{n}$ una m.a. absolutamente continua con f.d. $F_{X}(x, \\theta)$.\n",
    "\n",
    "1. Sea $U_{i}:=F_{X}\\left(X_{i}, \\theta\\right)$ o $U_{i}:=1-F_{X}\\left(X_{i}, \\theta\\right) \\Rightarrow U_{i} \\sim U[0,1] \\forall i=1, \\ldots, n$.\n",
    "2. Sea $R_{i}:=-\\ln U_{i} \\Rightarrow R_{i} \\sim \\operatorname{Exp}(1) \\forall i=1, \\ldots, n$.\n",
    "3. $V_{1}(\\mathbf{X}, \\theta):=\\sum_{i=1}^{n} R_{i} \\sim \\Gamma(n, 1)$.\n",
    "\n",
    "Equivalentemente,\n",
    "\n",
    "2. ' Sea $R_{i}^{*}:=-2 \\ln U_{i} \\Rightarrow R_{i}^{*} \\sim \\operatorname{Exp}(1 / 2) \\forall i=1, \\ldots, n$.\n",
    "3. ' $V_{2}(\\mathbf{X}, \\theta):=\\sum_{i=1}^{n} R_{i}^{*} \\sim \\chi^{2}(2 n)$.\n",
    "\n",
    "---\n",
    "\n",
    "de este modo tenemos que la variable pivote para el parámetro $\\theta$ es\n",
    "\n",
    "1. $U_i := F_{X}\\left(X_{i}, \\theta\\right) = \\frac{X_i^2}{\\theta^2} \\sim U[0,1]$\n",
    "\n",
    "2. ' $R_{i}^{*}:=-2 \\ln U_{i} = -2 \\ln \\left(  \\frac{X_i^2}{\\theta^2} \\right) = -2 \\ln \\left(  \\frac{X_i}{\\theta} \\right)^2 = -4\\ln \\left(  \\frac{X_i}{\\theta} \\right)  \\sim \\operatorname{Exp}(1 / 2) \\forall i=1, \\ldots, n$\n",
    "\n",
    "3. ' $V_{2}(\\mathbf{X}, \\theta):=\\sum_{i=1}^{n} R_{i}^{*} = \\sum_{i=1}^{n} \\left(-4\\ln \\left(  \\frac{X_i}{\\theta} \\right)\\right)= -4\\left(\\sum_{i=1}^{n} \\ln \\left(  \\frac{X_i}{\\theta} \\right) \\right) = -4\\left( \\ln \\left(  \\frac{\\prod_{i=1}^{n}X_i}{\\theta^n} \\right) \\right) \\sim \\chi^{2}(2 n)$\n",
    "\n",
    "\n",
    "De este modo haciendo uso del método de la variable pivote el intervalo de confianza es\n",
    "\n",
    "$$\n",
    "\\begin{split}\n",
    "p\\left( a \\leq V_{2}(\\mathbf{X}, \\theta) \\leq b \\right)\n",
    "& = p\\left( a \\leq -4\\left( \\ln \\left(  \\frac{\\prod_{i=1}^{n}X_i}{\\theta^n} \\right) \\right) \\leq b \\right) \\\\\n",
    "& = p\\left( -a \\geq 4\\left( \\ln \\left(  \\frac{\\prod_{i=1}^{n}X_i}{\\theta^n} \\right) \\right) \\geq -b \\right) \\\\\n",
    "& = p\\left( \\frac{-a}{4} \\geq  \\ln \\left(  \\frac{\\prod_{i=1}^{n}X_i}{\\theta^n} \\right) \\geq \\frac{-b}{4} \\right) \\\\\n",
    "& = p\\left( \\exp \\left[ \\frac{-a}{4} \\right] \\geq \\frac{\\prod_{i=1}^{n}X_i}{\\theta^n} \\geq \\exp \\left[ \\frac{-b}{4}  \\right]  \\right)\\\\\n",
    "& = p\\left( \\exp \\left[ \\frac{a}{4} \\right] \\leq \\frac{\\theta^n}{\\prod_{i=1}^{n}X_i} \\leq \\exp \\left[ \\frac{b}{4}  \\right]  \\right)\\\\\n",
    "& = p\\left( \\left(\\prod_{i=1}^{n}X_i\\right)\\exp \\left[ \\frac{a}{4} \\right] \\leq \\theta^n \\leq \\left(\\prod_{i=1}^{n}X_i\\right)\\exp \\left[ \\frac{b}{4}  \\right]  \\right)\\\\\n",
    "& = p\\left( \\left(\\left(\\prod_{i=1}^{n}X_i\\right)\\exp \\left[ \\frac{a}{4} \\right] \\right)^{\\frac{1}{n}} \\leq \\theta \\leq \\left(\\left(\\prod_{i=1}^{n}X_i\\right) \\exp\\left[ \\frac{b}{4}  \\right]  \\right)^{\\frac{1}{n}}  \\right) \\\\\n",
    "& = p\\left( \\left(\\prod_{i=1}^{n}X_i\\right)^{\\frac{1}{n}}\\exp \\left[ \\frac{a}{4n} \\right] \\leq \\theta \\leq \\left(\\prod_{i=1}^{n}X_i\\right)^{\\frac{1}{n}} \\exp\\left[ \\frac{b}{4n}  \\right]  \\right)\\\\\n",
    "& = 1 - \\alpha \\\\\n",
    "\\end{split}\n",
    "$$\n",
    "\n",
    "donde tenemos que la longitud del intervalo viene dada por\n",
    "\n",
    "$$\n",
    "\\begin{split}\n",
    "\\left(\\prod_{i=1}^{n}X_i\\right)^{\\frac{1}{n}} \\exp\\left[ \\frac{b}{4n}  \\right] - \\left(\\prod_{i=1}^{n}X_i\\right)^{\\frac{1}{n}}\\exp\\left[ \\frac{a}{4n} \\right] \n",
    "& = \\left(\\prod_{i=1}^{n}X_i\\right)^{\\frac{1}{n}} \\left( \\exp\\left[ \\frac{b}{4n}  \\right] - \\exp\\left[ \\frac{a}{4n} \\right] \\right) \\\\ \n",
    "\\end{split}\n",
    "$$\n",
    "\n",
    "que no depende de $b-a$.\n",
    "\n",
    "Ahora, teniendo en cuenta teorema de longitud mínima\n",
    "\n",
    "---\n",
    "\n",
    "Sea $f_Q(q)$ una densidad unimodal (solo tiene un pico). Si el intervalo $[a,b]$ satisface que\n",
    "\n",
    "1. $\\int_a^b f_Q(q) dq = 1-\\alpha$  ( $p( a \\leq Q(\\mathbf{X}) \\leq b) = 1 - \\alpha$ )\n",
    "\n",
    "2. $f_Q(a)=f_Q(b)>0$\n",
    "\n",
    "3. $a \\leq q^* \\leq b$, donde $q^* = \\operatorname{arg max}f_Q(q)$\n",
    "\n",
    "---\n",
    "\n",
    "y dado que $\\chi^{2}(2 n)$ es una distribución unimodal pero no una distribución simétrica entonces dejaremos  $\\frac{\\alpha}{2}$ de probabilidad acumulada en las colas, haciendo la salvedad de que no encontraremos el intervalo de longitud mínima pero si uno que es bastante cercano a este. Entonces tenemos que $a = \\chi^2_{\\frac{\\alpha}{2}}(2n)$ y $b = \\chi^2_{1-\\frac{\\alpha}{2}}(2n)$  y por lo tanto un intervalo de confianza de $100(1-\\alpha)\\%$ de $\\theta$ (no de mínima longitud) es\n",
    "\n",
    "$$\n",
    "IC_{100(1-\\alpha)\\%}(\\theta) = \\left[ \\left(\\prod_{i=1}^{n}X_i\\right)^{\\frac{1}{n}}\\exp \\left[ \\frac{\\chi^2_{\\frac{\\alpha}{2}}(2n)}{4n} \\right] \\quad , \\quad \\left(\\prod_{i=1}^{n}X_i\\right)^{\\frac{1}{n}} \\exp\\left[ \\frac{\\chi^2_{1-\\frac{\\alpha}{2}}(2n)}{4n}  \\right] \\right]\n",
    "$$"
   ]
  },
  {
   "cell_type": "markdown",
   "id": "9a8097fe-139f-47be-84e4-52996e67e07b",
   "metadata": {},
   "source": [
    "#### **(b)**\n",
    "Construya un intervalo asintótico de $100(1-\\alpha)\\%$ para $\\theta$.\n",
    "\n",
    "***Solución:***"
   ]
  },
  {
   "cell_type": "markdown",
   "id": "36d46316-cb90-4d07-a805-e806534d64af",
   "metadata": {},
   "source": [
    "Vamos a hacer uso del teorema del límite central para poder encontrar un intervalo asintótico. Primero debemos verificar que se tienen la media $\\mu$ y varianza $\\sigma^2$ finitas. Para la media tenemos\n",
    "\n",
    "$$\n",
    "\\begin{split}\n",
    "\\mu\n",
    "& = E[x] \\\\\n",
    "& =  \\int_{-\\infty}^{\\infty} xf_X(x,\\theta) dx \\\\\n",
    "& =  \\int_{-\\infty}^{\\infty} x\\frac{2x}{\\theta^2} I_{(0,\\theta)}(x) dx \\\\\n",
    "& =  \\int_{0}^{\\theta} x\\frac{2x}{\\theta^2} dx \\quad (\\theta > 0)\\\\\n",
    "& =  \\frac{2}{\\theta^2} \\int_{0}^{\\theta} x^2 dx \\\\\n",
    "& =  \\frac{2}{\\theta^2} \\left[ \\frac{x^3}{3} \\right]_{0}^{\\theta} \\\\\n",
    "& =  \\frac{2}{3}\\theta  \\\\\n",
    "\\end{split}\n",
    "$$\n",
    "\n",
    "Para la varianza tenemos que\n",
    "\n",
    "$$\n",
    "\\begin{split}\n",
    "E[X^2]\n",
    "& = \\int_{-\\infty}^{\\infty} x^2f_X(x,\\theta) dx \\\\\n",
    "& = \\int_{-\\infty}^{\\infty} x^2\\frac{2x}{\\theta^2} I_{(0,\\theta)}(x) dx \\\\\n",
    "& = \\int_{0}^{\\theta} x^2\\frac{2x}{\\theta^2} dx \\\\\n",
    "& = \\frac{2}{\\theta^2} \\int_{0}^{\\theta} x^3 dx \\\\\n",
    "& = \\frac{2}{\\theta^2} \\left[ \\frac{x^4}{4} \\right]_{0}^{\\theta} \\\\\n",
    "& = \\frac{2}{4} \\theta^2 \\\\\n",
    "& = \\frac{1}{2} \\theta^2 \\\\\n",
    "\\end{split}\n",
    "$$\n",
    "\n",
    "entonces\n",
    "\n",
    "$$\n",
    "\\begin{split}\n",
    "\\sigma^2 \n",
    "& = \\operatorname{Var}[X] \\\\\n",
    "& = E\\left[ X^2 \\right] - \\left( E[X] \\right)^2 \\\\\n",
    "& = \\frac{1}{2} \\theta^2 - \\left( \\frac{2}{3}\\theta \\right)^2 \\\\\n",
    "& = \\frac{1}{2} \\theta^2 - \\frac{4}{9}\\theta^2 \\\\\n",
    "& = \\left( \\frac{1}{2} - \\frac{4}{9} \\right)\\theta^2 \\\\\n",
    "& = \\frac{1}{18}\\theta^2 \\\\\n",
    "\\end{split}\n",
    "$$"
   ]
  },
  {
   "cell_type": "markdown",
   "id": "c8d8ce0c-5146-41d8-83d3-7a21c63a3c75",
   "metadata": {},
   "source": [
    "Ahora vamos a usar como variable pivote a \n",
    "\n",
    "$$\n",
    "Q(\\mathbf{X},\\theta) = \\sqrt{n}( g(\\bar{X}_n) - g(\\mu(\\theta))) \\overset{d}{\\underset{n \\to \\infty}{\\longrightarrow}}N(0,k^2)\n",
    "$$\n",
    "\n",
    "donde $g$ es una función estabilizadora de la varianza.\n",
    "\n",
    "Por el teorema central de límite tenemos que  \n",
    "\n",
    "$$\n",
    "\\begin{split}\n",
    "\\sqrt{n}(\\bar{X}_n - \\mu(\\theta)) & \\overset{d}{\\underset{n \\to \\infty}{\\longrightarrow}}N(0,\\sigma^2(\\theta)) \\\\\n",
    "\\sqrt{n}\\left( \\bar{X}_n - \\frac{2}{3}\\theta \\right) & \\overset{d}{\\underset{n \\to \\infty}{\\longrightarrow}} N \\left( 0,\\frac{1}{18}\\theta^2 \\right) \\\\\n",
    "\\sqrt{n}\\left( \\frac{3}{2}\\bar{X}_n - \\theta \\right) & \\overset{d}{\\underset{n \\to \\infty}{\\longrightarrow}} N \\left( 0,\\frac{1}{8}\\theta^2 \\right) \\\\\n",
    "\\end{split}\n",
    "$$\n",
    "\n",
    "Sea $g$ una función diferenciable tal que $g'(\\mu(\\theta)) \\neq 0$ $\\forall \\theta$ tal\n",
    "\n",
    "$$\n",
    "\\begin{split}\n",
    "\\sqrt{n}( g(\\bar{X}_n) - g(\\mu(\\theta))) & \\overset{d}{\\underset{n \\to \\infty}{\\longrightarrow}} N\\left( 0,\\left[ g'(\\theta) \\right]^2 \\sigma^2(\\theta) = k^2 \\right) \\\\\n",
    "\\sqrt{n}\\left( g\\left(\\frac{3}{2}\\bar{X}_n\\right) - g\\left(\\theta\\right) \\right) & \\overset{d}{\\underset{n \\to \\infty}{\\longrightarrow}} N\\left( 0,\\left[ g'(\\theta) \\right]^2 \\frac{1}{8}\\theta^2 = k^2 \\right) \\\\\n",
    "\\end{split}\n",
    "$$\n",
    "\n",
    "Ahora tenemos que resolver $\\left[ g'(\\theta) \\right]^2 \\frac{1}{8}\\theta^2 = k^2$ una ecuación diferencial de primer orden en $g$.\n",
    "\n",
    "$$\n",
    "\\begin{split}\n",
    "k^2 & = \\left[ g'(\\theta) \\right]^2 \\frac{1}{8}\\theta^2 \\\\\n",
    "\\frac{8}{\\theta^2} k^2 & = \\left[ g'(\\theta) \\right]^2 \\\\\n",
    "\\frac{\\sqrt{8}}{\\theta} k & =  g'(\\theta)  \\\\\n",
    "\\int \\frac{\\sqrt{8}}{\\theta} k d\\theta & =  g(\\theta)  \\\\\n",
    "k\\sqrt{8}\\int \\frac{1}{\\theta} d\\theta & =  g(\\theta)  \\\\\n",
    "k\\sqrt{8}\\ln |\\theta | + c  & =  g(\\theta)  \\\\\n",
    "k\\sqrt{8}\\ln(\\theta) & =  g(\\theta) \\quad (\\theta > 0) \\\\\n",
    "\\end{split}\n",
    "$$\n",
    "\n"
   ]
  },
  {
   "cell_type": "markdown",
   "id": "8aea7e5c-849a-479a-8d73-7e4d6a19f1c4",
   "metadata": {},
   "source": [
    "De este modo, tomando a $k=\\frac{1}{\\sqrt{8}}$, tenemos que \n",
    "\n",
    "$$\n",
    "\\begin{split}\n",
    "\\sqrt{n}\\left( g\\left(\\frac{3}{2}\\bar{X}_n\\right) - g\\left(\\theta\\right) \\right) & \\overset{d}{\\underset{n \\to \\infty}{\\longrightarrow}} N\\left( 0,\\left[ g'(\\theta) \\right]^2 \\frac{1}{8}\\theta^2 = k^2 \\right) \\\\\n",
    "\\sqrt{n}\\left( k\\sqrt{8}\\ln\\left(\\frac{3}{2}\\bar{X}_n\\right) - k\\sqrt{8}\\ln\\left(\\theta\\right) \\right) & \\overset{d}{\\underset{n \\to \\infty}{\\longrightarrow}} N\\left( 0,k^2 \\right) \\\\\n",
    "\\sqrt{n}\\left( \\ln\\left(\\frac{3}{2}\\bar{X}_n\\right) - \\ln\\left(\\theta\\right) \\right) & \\overset{d}{\\underset{n \\to \\infty}{\\longrightarrow}} N\\left( 0,\\frac{1}{8} \\right) \\\\\n",
    "\\sqrt{8n}\\left( \\ln\\left(\\frac{3}{2}\\bar{X}_n\\right) - \\ln\\left(\\theta\\right) \\right) & \\overset{d}{\\underset{n \\to \\infty}{\\longrightarrow}} N\\left( 0,1\\right) \\\\\n",
    "\\end{split}\n",
    "$$\n",
    "\n",
    "Por lo tanto el intervalo asintótico para el parámetro $\\theta$ esta dado por \n",
    "\n",
    "$$\n",
    "\\begin{split}\n",
    "p\\left( a \\leq Q(\\mathbf{X},\\theta) \\leq b \\right)\n",
    "& = p\\left( a \\leq \\sqrt{8n}\\left( \\ln\\left(\\frac{3}{2}\\bar{X}_n\\right) - \\ln\\left(\\theta\\right) \\right) \\leq b \\right) \\\\\n",
    "& = p\\left( \\frac{a}{\\sqrt{8n}} - \\ln\\left(\\frac{3}{2}\\bar{X}_n\\right) \\leq  - \\ln\\left(\\theta\\right) \\leq \\frac{b}{\\sqrt{8n}} - \\ln\\left(\\frac{3}{2}\\bar{X}_n\\right) \\right) \\\\\n",
    "& = p\\left( \\ln\\left(\\frac{3}{2}\\bar{X}_n\\right) - \\frac{a}{\\sqrt{8n}}  \\geq  \\ln\\left(\\theta\\right) \\geq \\ln\\left(\\frac{3}{2}\\bar{X}_n\\right) - \\frac{b}{\\sqrt{8n}} \\right) \\\\\n",
    "& = p\\left( \\exp\\left[ \\ln\\left(\\frac{3}{2}\\bar{X}_n\\right) - \\frac{a}{\\sqrt{8n}} \\right] \\geq  \\theta \\geq \\exp\\left[ \\ln\\left(\\frac{3}{2}\\bar{X}_n\\right) - \\frac{b}{\\sqrt{8n}}  \\right] \\right) \\\\\n",
    "& = p\\left( \\frac{ \\frac{3}{2}\\bar{X}_n}{ \\exp\\left[ \\frac{a}{\\sqrt{8n}} \\right] }  \\geq  \\theta \\geq \\frac{ \\frac{3}{2}\\bar{X}_n}{ \\exp\\left[ \\frac{b}{\\sqrt{8n}} \\right] } \\right) \\\\\n",
    "& = p\\left( \\frac{3\\bar{X}_n}{ 2\\exp\\left[ \\frac{b}{\\sqrt{8n}} \\right] }  \\leq  \\theta \\leq \\frac{ 3\\bar{X}_n}{ 2\\exp\\left[ \\frac{a}{\\sqrt{8n}} \\right] } \\right) = 1-\\alpha\\\\\n",
    "\\end{split}\n",
    "$$\n",
    "\n",
    "donde la longitud del intervalo está dada por \n",
    "\n",
    "$$\n",
    "\\frac{3\\bar{X}_n}{ 2\\exp \\left[ \\frac{a}{\\sqrt{8n}} \\right]} - \\frac{3\\bar{X}_n}{ 2\\exp \\left[ \\frac{b}{\\sqrt{8n}} \\right]}\n",
    "$$\n",
    "\n",
    "y por ende no es proporcional a $b-a$. Entonces tenemos que $b=Z_{1-\\frac{\\alpha}{2}}=-a$ y el intervalo de confianza asintótico (no mínimo) queda de la siguiente manera\n",
    "\n",
    "$$\n",
    "\\begin{split}\n",
    "\\operatorname{ICA}_{100(1-\\alpha)\\%}(\\theta) \n",
    "& = \\left[ \\ \\frac{3\\bar{X}_n}{ 2\\exp \\left[ \\frac{b}{\\sqrt{8n}} \\right]} \\quad , \\quad \\frac{3\\bar{X}_n}{ 2\\exp \\left[ \\frac{a}{\\sqrt{8n}} \\right]} \\ \\right] \\\\\n",
    "& = \\left[ \\ \\frac{3\\bar{X}_n}{ 2\\exp \\left[ \\frac{Z_{1-\\frac{\\alpha}{2}}}{\\sqrt{8n}} \\right]} \\quad , \\quad \\frac{3\\bar{X}_n}{ 2\\exp \\left[ \\frac{- Z_{1-\\frac{\\alpha}{2}}}{\\sqrt{8n}} \\right]} \\ \\right] \\\\\n",
    "\\end{split}\n",
    "$$"
   ]
  },
  {
   "cell_type": "markdown",
   "id": "49437e41-4edd-43e7-8d6a-af90343fe508",
   "metadata": {},
   "source": [
    "#### **(c)**\n",
    "Por qué escogió el método que usó en el literal **(b)**? Podría usarse cualquiera de los dos métodos vistos en clase? (TCL ó MLE).\n",
    "\n",
    "***Solución:***"
   ]
  },
  {
   "cell_type": "markdown",
   "id": "ad0f4cce-0d5c-42ea-bbb8-f60231a9aeb4",
   "metadata": {},
   "source": [
    "No podemos hacer uso del método del MLE dado que no se tienen condiciones de regularidad para el parámetro $\\theta$. Por otro lado, al poder tener la media  y la varianza de las variables $X_i$, podemos aplicar el CLT y por ende podemos encontrar un intervalo de confianza  asintótico  usando CLT."
   ]
  },
  {
   "cell_type": "markdown",
   "id": "4902c6cf-24ac-41b6-a4f0-1c4c432d5596",
   "metadata": {},
   "source": [
    "."
   ]
  },
  {
   "cell_type": "markdown",
   "id": "0413807e-3bd0-478d-adf0-d732f1ac839d",
   "metadata": {},
   "source": [
    "### **(2)**\n",
    "Sea $X_1,X_2,\\ldots,X_n$ una muestra aleatoria normal $N(\\mu_X,\\sigma^2_X)$ de $n$ individuos, y sea $Y_1,Y_2,\\ldots,Y_m$ otra muestra aleatoria normal $N(\\mu_Y,\\sigma^2_Y)$ de $m$ individuos (independiente a la anterior)."
   ]
  },
  {
   "cell_type": "markdown",
   "id": "794e4434-a1ab-4470-aeda-f30c13e638e6",
   "metadata": {},
   "source": [
    "#### **(a)** \n",
    "Qué distribución tienen \n",
    "\n",
    "$$\n",
    "\\begin{split}\n",
    "Q(\\mathbf{X},\\theta)\n",
    "& = \\frac{(n-1)S_X^2}{\\sigma_X^2} \n",
    "\\end{split}\n",
    "$$\n",
    "\n",
    "y \n",
    "\n",
    "$$\n",
    "\\begin{split}\n",
    "R(\\mathbf{Y},\\theta)\n",
    "& = \\frac{(m-1)S_Y^2}{\\sigma_Y^2} \n",
    "\\end{split}\n",
    "$$ \n",
    "\n",
    "variables pivote de $\\sigma^2_X$ y $\\sigma^2_Y$ respectivamente?\n",
    "\n",
    "***Solución:***"
   ]
  },
  {
   "cell_type": "markdown",
   "id": "821cf2cb-3144-4492-87ef-7fafd7ac15da",
   "metadata": {},
   "source": [
    "Se mostro que, cuando se tiene una muestra aleatoria $A_1,A_2,\\ldots,A_r$, donde $A_i \\sim N(\\mu_A ,\\sigma^2_A)$; si $\\mu_A$ es desconocido, una variable pivote para $\\sigma^2_A$  es $\\frac{(r-1)S_A^2}{\\sigma_A^2} \\sim \\chi^2(r-1)$. De este modo tenemos que \n",
    "\n",
    "$$\n",
    "\\begin{split}\n",
    "Q(\\mathbf{X},\\theta)\n",
    "& = \\frac{(n-1)S_X^2}{\\sigma_X^2} \\sim \\chi^2(n-1)\n",
    "\\end{split}\n",
    "$$\n",
    "\n",
    "y\n",
    "\n",
    "$$\n",
    "\\begin{split}\n",
    "R(\\mathbf{Y},\\theta)\n",
    "& = \\frac{(m-1)S_Y^2}{\\sigma_Y^2} \\sim \\chi^2(m-1)\n",
    "\\end{split}\n",
    "$$\n",
    "\n",
    "son las distribuciones respectivamente de $Q(\\mathbf{X},\\theta)$ y $R(\\mathbf{Y},\\theta)$."
   ]
  },
  {
   "cell_type": "markdown",
   "id": "6e8f9b82-f282-4a04-9caf-d8fe5b1f35f0",
   "metadata": {},
   "source": [
    "#### **(b)**\n",
    "Combine esas dos distribuciones de modo que se obtenga una  variable pivote para el cociente $\\frac{\\sigma^2_Y}{\\sigma^2_X}$.\n",
    "\n",
    "***Solución:***"
   ]
  },
  {
   "cell_type": "markdown",
   "id": "9713a32c-2d4c-49c6-bb31-9d619890c935",
   "metadata": {},
   "source": [
    "Recordando lo visto al inicio del curso tenemos que \n",
    "\n",
    "---\n",
    "\n",
    "Si $W \\sim \\chi^2(m)$ e $Y \\sim \\chi^2(n)$ son dos variables aleatorias independientes, entonces tenemos que \n",
    "$$ \\frac{\\frac{W}{m}}{\\frac{Y}{n}} \\sim F(m,n)$$\n",
    "\n",
    "---\n",
    "\n",
    "De este modo por lo visto en clase el cociente entre varianzas para $Q$ y $R$ es\n",
    "\n",
    "$$\n",
    "\\begin{split}\n",
    "\\dfrac{\\frac{Q(\\mathbf{X},\\theta)}{n-1}}{\\frac{R(\\mathbf{Y},\\theta)}{m-1}} \n",
    "& = \\frac{\\sigma^2_Y}{\\sigma^2_X}\\frac{S_X^2}{S_Y^2} \\sim F(n-1,m-1) \\\\\n",
    "\\end{split}\n",
    "$$\n",
    "\n",
    "Por lo tanto $\\frac{\\sigma^2_Y}{\\sigma^2_X}\\frac{S_X^2}{S_Y^2}$ es una variable pivote para el cociente $\\frac{\\sigma^2_Y}{\\sigma^2_X}$."
   ]
  },
  {
   "cell_type": "markdown",
   "id": "5777b759-f92b-43e8-b45c-7847c40ca403",
   "metadata": {},
   "source": [
    "#### **(c)**\n",
    "Construya con base en dicha variable aleatoria pivote para $\\frac{\\sigma^2_Y}{\\sigma^2_X}$ un intervalo de confianza para el cociente de las varianzas.\n",
    "\n",
    "***Solución:***"
   ]
  },
  {
   "cell_type": "markdown",
   "id": "bb113a80-a3eb-44fe-b02b-3f9a33d6d715",
   "metadata": {},
   "source": [
    "Teniendo la variable pivote el intervalo de confianza de $100(1-\\alpha)\\%$ para el cociente $\\frac{\\sigma^2_Y}{\\sigma^2_X}$ está dado por\n",
    "\n",
    "$$\n",
    "\\begin{split}\n",
    "p\\left( a \\leq \\frac{\\sigma^2_Y}{\\sigma^2_X}\\frac{S_X^2}{S_Y^2} \\leq b \\right) \n",
    "& = p\\left( a\\frac{S_Y^2}{S_X^2}  \\leq \\frac{\\sigma^2_Y}{\\sigma^2_X} \\leq b\\frac{S_Y^2}{S_X^2} \\right) \\\\\n",
    "\\end{split}\n",
    "$$\n",
    "\n",
    "donde podemos ver que la longitud del intervalo es proporcional $b-a$ tenemos un intervalo de mínima longitud. Aunque dado que la distribución de fisher no es simétrica respecto a la moda dejaremos simplemente una probabilidad acumulada de $\\frac{\\alpha}{2}$ en las colas. De este modo para $a=F(n-1,m-1)_{\\frac{\\alpha}{2}}$ y $b=F(n-1,m-1)_{1-\\frac{\\alpha}{2}}$ tenemos que el intervalo de confianza de $100(1-\\alpha)\\%$ para el cociente $\\frac{\\sigma^2_Y}{\\sigma^2_X}$ es \n",
    "\n",
    "$$\n",
    "\\operatorname{IC}_{100(1-\\alpha)\\%} \\left(\\frac{\\sigma^2_Y}{\\sigma^2_X}\\right) = \\left[  F(n-1,m-1)_{\\frac{\\alpha}{2}}\\frac{S_Y^2}{S_X^2} \\quad , \\quad F(n-1,m-1)_{1-\\frac{\\alpha}{2}}\\frac{S_Y^2}{S_X^2} \\right]\n",
    "$$\n",
    "\n"
   ]
  },
  {
   "cell_type": "markdown",
   "id": "43ba5ea1-900d-40c3-9bb9-99a1160409ce",
   "metadata": {},
   "source": [
    "### **(3)**\n",
    "La sociedad protectora de animales informa que hay alrededor de $65$ millones de perros en Estados Unidos y que aproximadamente el $40$% de todas las familias en estados unidos tienen al menos un perro. En una muestra aleatoria de $300$ familias, $114$ dijeron que tenían al menos un perro. ¿Estos datos dan suficiente evidencia para indicar que la proporción de familias con al menos un perro es diferente a la publicada por Humane Society? Verifique usando $\\alpha = 0.05$.\n",
    "\n",
    "***Solución:***"
   ]
  },
  {
   "cell_type": "markdown",
   "id": "c3377f10-8380-470f-87b6-c081c73eaf85",
   "metadata": {},
   "source": [
    "Tenemos el siguiente sistema de hipótesis\n",
    "\n",
    "$$\n",
    "\\begin{cases}\n",
    "H_0 & \\text{Si } p = 0.4 \\\\\n",
    "\\text{Vs} & \\Theta=[0,1]\\\\\n",
    "H_1 & \\text{Si } p \\neq 0.4 \\\\\n",
    "\\end{cases}\n",
    "$$\n",
    "\n",
    "Ahora vamos a encontrar un test que verifique con una significancia de $100\\alpha\\%$, para esto vamos a construir un intervalo de confianza de $100(1-\\alpha)\\%$ según los datos proporcionados y veremos si efectivamente los datos evidencian la hipótesis nula. Recordemos que esto es posible dado que tenemos un test a dos colas.\n",
    "\n",
    "Haciendo uso de lo visto en clase  para construir intervalos de confianza para proporciones poblacionales, para preferiblemente tamaños de muestra mayores a 30, tenemos que\n",
    "\n",
    "$$\n",
    "\\begin{split}\n",
    "\\operatorname{IC}_{100(1-\\alpha)\\%}(\\theta)\n",
    "& = \\left[ \\hat{p}_{n} -\\left(z_{1-\\frac{\\alpha}{2}}\\right) \\cdot \\sqrt{\\frac{\\hat{p}_{n}\\left(1-\\hat{p}_{n}\\right)}{n}} \\quad , \\quad \\hat{p}_{n} + \\left(z_{1-\\frac{\\alpha}{2}}\\right) \\cdot \\sqrt{\\frac{\\hat{p}_{n}\\left(1-\\hat{p}_{n}\\right)}{n}} \\right]\\\\\n",
    "\\end{split}\n",
    "$$\n",
    "\n",
    "Ahora, dado que $\\hat{p}_n = \\frac{114}{300} = 0.38$ y $\\alpha = 0.05$ entonces.\n",
    "\n",
    "$$\n",
    "\\begin{split}\n",
    "\\operatorname{IC}_{95\\%}(\\theta)\n",
    "& = \\left[ \\hat{p}_{n} -\\left(z_{1-\\frac{\\alpha}{2}}\\right) \\cdot \\sqrt{\\frac{\\hat{p}_{n}\\left(1-\\hat{p}_{n}\\right)}{n}} \\quad , \\quad \\hat{p}_{n} + \\left(z_{1-\\frac{\\alpha}{2}}\\right) \\cdot \\sqrt{\\frac{\\hat{p}_{n}\\left(1-\\hat{p}_{n}\\right)}{n}} \\right]\\\\\n",
    "& = \\left[ 0.38 -\\left(z_{1-\\frac{0.05}{2}}\\right) \\cdot \\sqrt{\\frac{0.38\\left(1-0.38\\right)}{300}} \\quad , \\quad 0.38 + \\left(z_{1-\\frac{0.05}{2}}\\right) \\cdot \\sqrt{\\frac{0.38\\left(1-0.38\\right)}{300}} \\right]\\\\\n",
    "& = \\left[ 0.38 -\\left(z_{0.975}\\right) \\cdot \\sqrt{\\frac{0.38\\left(0.62\\right)}{300}} \\quad , \\quad 0.38 + \\left(z_{0.975}\\right) \\cdot \\sqrt{\\frac{0.38\\left(0.62\\right)}{300}} \\right]\\\\\n",
    "& = \\left[ 0.38 -\\left(z_{0.975}\\right) \\cdot \\sqrt{\\frac{0.38\\left(0.62\\right)}{300}} \\quad , \\quad 0.38 + \\left(z_{0.975}\\right) \\cdot \\sqrt{\\frac{0.38\\left(0.62\\right)}{300}} \\right]\\\\\n",
    "& = \\left[ 0.325 \\quad,\\quad 0.435 \\right]\\\\\n",
    "\\end{split}\n",
    "$$\n",
    "\n"
   ]
  },
  {
   "cell_type": "code",
   "execution_count": 5,
   "id": "47bf9400-6456-48f8-b7b8-43bc46179534",
   "metadata": {},
   "outputs": [],
   "source": [
    "from sympy import *\n",
    "from scipy.stats import norm\n",
    "\n",
    "mu, sigma = 0,1 \n",
    "\n",
    "z_975 = norm.ppf(0.975, loc =mu, scale = sigma) \n",
    "\n",
    "LX = 0.38 - z_975*sqrt((0.38*0.62)/(300))\n",
    "RX = 0.38 + z_975*sqrt((0.38*0.62)/(300))"
   ]
  },
  {
   "cell_type": "code",
   "execution_count": 6,
   "id": "62c399c6-2100-4055-9260-2fc3c72bcb1a",
   "metadata": {},
   "outputs": [
    {
     "data": {
      "text/plain": [
       "1.959963984540054"
      ]
     },
     "execution_count": 6,
     "metadata": {},
     "output_type": "execute_result"
    }
   ],
   "source": [
    "z_975"
   ]
  },
  {
   "cell_type": "code",
   "execution_count": 5,
   "id": "975ea1d9-8ba8-44be-a439-d767d6221536",
   "metadata": {},
   "outputs": [
    {
     "data": {
      "text/latex": [
       "$\\displaystyle 0.325074362447774$"
      ],
      "text/plain": [
       "0.325074362447774"
      ]
     },
     "execution_count": 5,
     "metadata": {},
     "output_type": "execute_result"
    }
   ],
   "source": [
    "LX"
   ]
  },
  {
   "cell_type": "code",
   "execution_count": 6,
   "id": "ea3136b2-89a4-4c0f-bfce-307dd24277dd",
   "metadata": {},
   "outputs": [
    {
     "data": {
      "text/latex": [
       "$\\displaystyle 0.434925637552226$"
      ],
      "text/plain": [
       "0.434925637552226"
      ]
     },
     "execution_count": 6,
     "metadata": {},
     "output_type": "execute_result"
    }
   ],
   "source": [
    "RX"
   ]
  },
  {
   "cell_type": "markdown",
   "id": "b3c00e57-d8f0-4158-ab55-e820af2f4aeb",
   "metadata": {},
   "source": [
    "Por lo tanto, según el test\n",
    "\n",
    "- $\\tau$ :\"Rechazar $\\mathrm{H}_{0}$ en favor de $\\mathrm{H}_{1}$ si $\\theta_{0} \\notin \\mathrm{IC}_{100(1-\\alpha) \\%}(\\theta)$\n",
    "\n",
    "asociado al método que usamos de inversión de intervalo de confianza, tenemos que para una suficiencia de $100\\alpha\\% = 5\\%$ tenemos que \n",
    "\n",
    "- $\\tau$ :\"Rechazar $\\mathrm{H}_{0}$ en favor de $\\mathrm{H}_{1}$ si $\\theta_{0} \\notin \\left[ 0.325 \\quad,\\quad 0.435 \\right] = \\mathrm{IC}_{95\\%}(\\theta)$\n",
    "\n",
    "Y de este modo debemos conservar la hipótesis nula, es decir que a travez del método de inversión de intervalo de confianza hay evidencia suficiente que respalde que el $40\\%$ de las familias de los Estados Unidos tienen a su cuidado al menos un perro."
   ]
  }
 ],
 "metadata": {
  "kernelspec": {
   "display_name": "Python 3 (ipykernel)",
   "language": "python",
   "name": "python3"
  },
  "language_info": {
   "codemirror_mode": {
    "name": "ipython",
    "version": 3
   },
   "file_extension": ".py",
   "mimetype": "text/x-python",
   "name": "python",
   "nbconvert_exporter": "python",
   "pygments_lexer": "ipython3",
   "version": "3.9.7"
  }
 },
 "nbformat": 4,
 "nbformat_minor": 5
}
