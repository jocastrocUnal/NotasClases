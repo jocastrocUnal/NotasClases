{
 "cells": [
  {
   "cell_type": "markdown",
   "id": "fb9fd973-dd7c-4665-a22a-9782cacdffbc",
   "metadata": {},
   "source": [
    "#### Notas Curso de Inferencia Estadistica\n",
    "Impartido por Profesor Mario Arrieta Prieto 2021-2"
   ]
  },
  {
   "cell_type": "markdown",
   "id": "b2d1b260-870c-468f-a23e-32ec0a4dee4d",
   "metadata": {},
   "source": [
    "# Características del curso\n",
    "- Código: 2016379 grupo 1\n",
    "- Agrupacion: Fundamentación\n",
    "- Créditos: 4\n",
    "- Topología: Teórica\n",
    "- Prerrequisitos: Probabilidad. Recomendable tener conocimientos de cálculo multivariable y estadística descriptiva.\n",
    "- Horario y modalidad: Lunes y miércoles de 9am a 11am, **telepresencial** y/o virtual remota. Presentaciones magistrales, desarrollo de ejercicios y actividades por parte de estudiantes.\n",
    "- Uso de sofware `R` (Rstudio) y `Python`."
   ]
  },
  {
   "cell_type": "markdown",
   "id": "690c6b5b-1933-4607-85a7-0842d872ec87",
   "metadata": {},
   "source": [
    "## Objetivos del curso\n",
    "### Objetivo General\n",
    "Familiarizar al estudiante con los conceptos y fundamentos de la teoría de la inferencia estadística\n",
    "### Objetivos Específicos\n",
    "- Identificar la estructura general de la inferencia estadística con la ayuda de la probabilidad\n",
    "- Teorizar el comportamiento teórico de estimadores y estadísticas de prueba.\n",
    "- Brindar los elementos de análisis estadístico adecuados para una correcta implementación y discusión de los hallazgos."
   ]
  },
  {
   "cell_type": "markdown",
   "id": "af504ddf-b26f-485b-9bb1-c9a29a3a5a2f",
   "metadata": {},
   "source": [
    "## Datos docente y horario de atención\n",
    "Mario Enrique Arrieta Prieto\n",
    "- Ingeniero Industrial y Estadístico UNAL\n",
    "- MS. en Estadística, UNAL\n",
    "- MS. en Matemática Aplicada, RPI,NY,EEUU\n",
    "- Ph.D en DSES, RPI, NY, EEUU\n",
    "- Docente tiempo completo Dpto. Estdística\n",
    "\n",
    "Correo: mearrietap@unal.edu.co\n",
    "\n",
    "Horario de atención: Lunes (3pm a 5pm) y jueves (10am a 12m), o en otro horario previamente acordado. En cualquier caso el espacio de atencio debe ser previamente acordado con el docente de la asignatura. La respuesta a inquietudes por correo se dará en 1-2 días hábiles en horario de oficina.\n"
   ]
  },
  {
   "cell_type": "markdown",
   "id": "20faaf56-d6b3-4ee8-9f96-1bf203496b45",
   "metadata": {},
   "source": [
    "## Evaluación\n",
    "\n",
    "| **Item** | **Porcentaje** |\n",
    "| --- | --- |\n",
    "| Primer parcial (sem. 6) | 20% |\n",
    "| Segundo parcial (sem. 11) | 22.5% |\n",
    "| Tercer parcial (sem. 16) | 22.5% |\n",
    "| Proyectos (sem. 8 y16) | 20% |\n",
    "| **Opciones segun** | 15% |\n",
    "\n",
    "- Cada examen tendrá un componente en *Moodle* del (70%) y la entrega vía correo de unos ejercicios por *Classroom* (30%). El  profesor podrá convocar a sustentaciones orales que valdrán el 50% del parcial junto con la parte de *Mooodle* que valdrá otro 50%\n",
    "\n",
    "- **Máximo entre:**\n",
    "1. Op 1: 15% para talleres, trabajos, quices.\n",
    "2. Op 2: 10% talleres, trabajos, quices; 5% participación.\n",
    "3. Op 3: 10% talleres, trabajos, quices; 5% P5M\n",
    "4. Op 4: 5% talleres, trabajos, quices; 5% participación; 5% P5M\n"
   ]
  },
  {
   "cell_type": "markdown",
   "id": "60204ebe-95a2-45f0-93bf-928b7a52e3e0",
   "metadata": {},
   "source": [
    "## Evaluación\n",
    "- Se dejarán varios tipos de talleres (no calificables) de preparación para los examenes, y de allí saldrán los ejercicios a entregar(ojo con la claridad en la escritura)\n",
    "- La participación será tomada en cuenta cuando el estudiante participe voluntariamente o cuando el profesor realice preguntas. Sólo se tendra en cuenta el número de participaciones positivas.\n",
    "- La calificación será asignada de acuerdo al número relativo de participaciones respecto a los demás estudiantes y tendrá una valoración final de entre 2.5 y 5.0\n",
    "- Las presentaciones de cinco minutos (P5M) buscarán discutir temas de interés más allá del contenido del curso. Serán desarrolladas por estudiantes voluntarios en temáticas asignadas por el profesor p de interés para el estudiante (Previa autorización)"
   ]
  },
  {
   "cell_type": "markdown",
   "id": "e2bc8a3e-debf-4845-831d-e8ed8e735ec2",
   "metadata": {},
   "source": [
    "## Bibliografía\n",
    "1. Mayorga, Humberto. Inferencia estadística. Universidad Nacional de Colombia, 2004. [link](http://ciencias.bogota.unal.edu.co/fileadmin/Facultad_de_Ciencias/Publicaciones/Imagenes/Portadas_Libros/Estadistica/Inferencia_Estadistica/Inferencia_Estadistica_libro.pdf)\n",
    "2. Casella, George, and Roger L. Berger. Statistical Inference. Vol. 2. Pacific Grove, CA: Duxbury, 2002. [link](https://mybiostats.files.wordpress.com/2015/03/casella-berger.pdf)\n",
    "3. Blanco Castañeda, Liliana. Probabilidad. Universidad Nacional de Colombia, Bogotá, 2004. [link](https://www.uneditorial.com/bw-probabilidad-matematica.html)"
   ]
  },
  {
   "cell_type": "markdown",
   "id": "366dfe7c-d195-46ba-a5bb-75bec908f2db",
   "metadata": {},
   "source": [
    "# Repaso de conceptos básicos de estadística\n",
    "- **Población o universo\\***: Cojunto de hechos numerosos de la misma naturaleza, con propiedades <ins>distintivas</ins>, cuyo comportamiento <ins>generalizado</ins> es objeto de estudio.\n",
    "\n",
    "Se requiere en inferencia que los hechos sean de la misma naturaleza, pero con propiedades distintivas, dado que al no tener propiedades distintivas, no tendria objeto hacer un estudio como tal. Por ejemplo, como hecho podriamos tomar los lapices usados por los estudiantes de la UNAL sede Bogóta, los cuales, en teoria y exceptuando casos particulares, como naturaleza deben ser la misma para cada estudiante UNAL de la sede de Bogotá; pero por propiedades distintivas del lapiz, podriamos mirar el diametro , la longitud, el material, etc. Por lo que bajo el supuesto de que todos los lapices escriben en un mismo gris oscuro particular, el color del rayado del lapiz no es una propiedad distintiva\n",
    "\n",
    "- **Censo**: Desarrollo del estudio estadístico identificando y ubicando <ins>todos</ins> los elementos de la población y midiendo en ellos la información distintiva de interés.\n",
    "    - <span style=\"color:green\">**:-)**</span> Sólo métodos descriptivos\n",
    "    - <span style=\"color:red\">**:-(**</span> Alto costo (tiempo y dinero)\n",
    "\n",
    "En los casos donde se puede hacer un censo, es decir que estamos hablando de una poblacion finita y donde es plausible recolectar la información de esta antes de que esta cambie por completo, se generan metodo descriptivos. Estos modelos descriptivos son aquellos que resumen y visualizan mejor los datos. Por ejemplo a pesar de que las bacterias en un estanque de agua son finitas, contarlas seria una tarea que no se podria hacer con la precisión y eficiencia que nos limita la tecnología actual.\n",
    "\n",
    "Por esto mismo tambien vale la pena preguntarse si, ¿existen poblaciónes las cuales son infinitas en numero como parte de su naturaleza?. Si lo primero que pensamos son las mismas bacterias del ejemplo anterior, estariamos equivocados, ya que \"*cualquier poblacion que tome tiempo y recursos para formase no puede ser infinito*\" al instante de estudiarlo. Es por esto que las bacterias al ser producto de la evolución de organismos mas simples y con capacidades metabolicas en principio, por mas grande que sea su numero este no llega a ser infinito. Pero para la pregunta antes formulada, si existen poblaciones infinitas; estas pueden ser tales como los instantes de tiempo en un intervalo de tiempo, las coordenadas en un plano o espacio, los numeros Naturales o Reales, etc.\n",
    "\n",
    "En la práctica, poblaciones como las bacterias, estrellas en el universo, insectos, unidades de cocosete en Colombia, etc; serán consideradas como si estas fueran infinitas. "
   ]
  },
  {
   "cell_type": "markdown",
   "id": "5c2cf491-bd40-47c7-a894-39f3930aed5b",
   "metadata": {},
   "source": [
    "- **Muestreo**: Recolección de información en un subconjunto de la población con el fin de hacer inferencias de toda la población.\n",
    "    - <span style=\"color:green\">**:-)**</span> Costos (tiempo y dinero) más bajos y estudios más detallados. Útil en procesos destructivos.\n",
    "    - <span style=\"color:red\">**:-(**</span> Técnicas estadísticas más sofisticadas y el diseño muestral juega un rol crítico.\n",
    "\n",
    "Para los procesos de recolección destructivos supongamos que queremos hacer un estudio de la calidad de las balas de cierta arma. Y esta calidad se determina solamente al disparar las balas del arma. De este modo no es nada practico tener que disparar toda la población de balas para poder llegar a concluciones sobre la población.\n",
    "\n",
    "- **Diseño Muestral**: Determina el alcance del estudio dependiendo de qué tan bien se haga la recolección de la muestra.\n",
    "    - Tamaño de de muestra (¿Cuantas unidades?)\n",
    "    - Proceso de selección (¿Cuáles unidades?)\n",
    "    - Proceso de medición (¿Todas las unidades seleccionadas disponibles?)\n",
    "    - Proceso de inferencia\n",
    "    \n",
    "Siguiendo la idea del ejemplo anterior, durante el curso se verán ciertas técnicas que nos permiten saber las condiciones de las muestra de balas suficientes a disparar, para llegar a una estimación lo suficientemente precisa para las necesidades del estudio. Tambien miraremos si necesitaremos alguna característica compartida entre la población de balas y como se deberian recolectar los datos con tal de llegar a las condiciones suficientes para iniciar el proceso inferencial sobre la calidad de las balas. "
   ]
  },
  {
   "cell_type": "markdown",
   "id": "e2a408d6-cef3-411d-aff6-3867ce605977",
   "metadata": {},
   "source": [
    "- **Inferencia estadística**: Rama de la estadística que busca extraer conclusiones de una población a partir de una muestra (mucho más sintética) usando el concepto de *regularidad estadística*.\n",
    "\n",
    "La regularidad estadística propone que \"al estudiar un número grande de veces un fenómeno en condiciones (casi) constantes, las proporciones en las que ocurren los posibles resultados son muy estables\". Un ejemplo de esto es cuando en un laboratorio clínico se extrae una muestra de sangre para el estudio general de la sangre en el cuerpo. Y esto es asi ya que se supone que la sangre es un liquido que se presenta casi homogeneo en todo el cuerpo."
   ]
  },
  {
   "cell_type": "markdown",
   "id": "afc74126-934e-4293-8322-1dc71df3fe79",
   "metadata": {},
   "source": [
    "- **Parámetro\\***: Cantidad de interés en la población.\n",
    "\n",
    "Un parámetro es algo que me gustaría conocer en la población. Supongamos por un momento que tenemos un basto cultivo de plantas de café en un terreno. Un parametro de esta población de plantas podría ser la acidez <ins>promedio</ins> del fruto de la planta de café, el tamaño <ins>máximo</ins> de la semilla, podria ser la <ins>proporción</ins> de hojas con piojos, etc.\n",
    "\n",
    "- **Estadística:** Cantidad de interés en la muestra con un rol equivalente al del parámetro en la población.\n",
    "\n",
    "Volviendo al ejemplo del cultivo de plantas de café en un terreno, para el caso del parámetro de la acidez media, tenemos la estadística de promedio o media de la acidez de las plantas de café en nuestra muestra de terreno (una fracción representativa).\n",
    "\n",
    "- **Unidad Poblacional:** Elemento o hecho individual que se cuenta y/o mide. Unido a todos los elementos de interés forma la <ins>población</ins>.\n",
    "\n",
    "Para nuestro ejemplo la unidad poblacional sería una planta de café que pertenece al terreno.\n",
    "\n",
    "- **Unidad Muestral:**  Se constituye en el elemento básico de selección en la muestra. Puede ser igual a la unidad poblacional o a grupos de ellas.\n",
    "\n",
    "Para nuestro ejemplo la unidad muestral podria ser la misma planta de café de unidad poblacional, pero tambien podria ser las plantas que estan en un radio $r$ de un punto del terreno y tambien podría ser las que están a una altura $x$. Esta definición de unidad muestral va a depender de como se haga el muestreo, si yo necesito tomar radios de plantas $r$ de determinadas alturas $x$, mi radios unidades muestrales van a ser los radios como tal, voy a muestrar los radios.\n",
    "\n",
    "- **Unidad de Observación**: Elemento del cual se obtiene la información de intrés. Puede coincidir o no con las unidades poblacionales y las muestrales.\n",
    "\n",
    "Nuevamente para el ejemplo podriamos tener una planta como unidad de observación para determinar, el parámetro, digamos la acidez media del café. Pero tambien podria tomar el grano de café como unidad de observación, dado que esta es la que a la final me sirve para tomar la información de interéz sobre el parámetro.\n"
   ]
  },
  {
   "cell_type": "markdown",
   "id": "183a3307-f3db-4283-b35f-5c0ff380a4a0",
   "metadata": {},
   "source": [
    "## Muestra \"representativa\"\n",
    "\n",
    "Es importante entender que una muestra representativa no es lo mismo que una muestra tomada al azar, tambien que no es necesario tomar una muestra al azar para obtener representatividad. Del mismo modo una muestra probabilistica no es lo mismo que una muestra representativa, ni que tomar una muestra de forma probabilistica me asegura representatividad.\n",
    "\n",
    "Supongamos por un momento que una aseguradora de autos nos contratan para hacer un estudio de cuales son las características de los automoviles que más se accidentan. Si tomo una muestra al azar yo no podría pedirle a mi individuo a observar que se accidente ese dia para recolectar los datos a estudiar. No obstante mi forma de recolección son los automoviles que se van accidentando en un tiempo $k$. "
   ]
  },
  {
   "cell_type": "markdown",
   "id": "6d6a0958-bf66-40cc-b02a-e34b86144386",
   "metadata": {},
   "source": [
    "Hay dos mecanismos principales para escoger una muestra: el <ins>probabilístico</ins> (Selección aleatoria) y el <ins>no probabilistico</ins> (selección no aleatoria)\n",
    "\n",
    "- En el mecanismo probabilístico, la muestra es escogida mediante un mecanismo aleatorio con unas probabilidades determinadas (**IBD** *inferencia basada en el diseño*)\n",
    "\n",
    "Este es uno de los mecanismos mas usados. Como ejemplo de esta situación podriamos seleccionar al <ins>azar</ins> una muestra de productos que se fabrican en una linea de producción para evaluar su calidad.\n",
    "\n",
    "- En el mecanismo no probabilistico, no hay un mecanismo aleatorio (**IBM** *inferencia basada en el modelo*). Se asume que las observaciones del estudio ya son producto del azar.\n",
    "\n",
    "Este mecanismo fue en el que ejemplificamos a inicio de esta parte con los accidentes de automoviles y como podemos ver nuestras observaciones de accidentes automovilisticos suponemos que ya son observaciones al azar.\n",
    "\n",
    "- En ambos casos, se debe garantizar que la muestra y el análisis tiene en cuenta las características de la población.\n",
    "\n"
   ]
  },
  {
   "cell_type": "markdown",
   "id": "fce16370-a327-451e-9db3-9977bb9ebd8f",
   "metadata": {},
   "source": [
    "# Conección Entre Probabilidad y Estadística\n",
    "\n",
    "## Variables y variables aleatorias\n",
    "- **Variable (Estadística)**: Atributo <ins>observable</ins> de las unidades, de intrés par el análisis.\n",
    "\n",
    "## **Variable Aleatoria:**\n",
    "Sea $(\\Omega,\\mathscr{F},\\mathcal{P})$ un espacio de probabilidad y $(\\hat{\\Omega},\\hat{\\mathscr{F}})$ un espacio medible. Una $\\mathscr{F}-\\hat{\\mathscr{F}}$-variable aleatoria en una **función**\n",
    "$$X: \\Omega \\to \\hat{\\Omega}$$\n",
    "tal que para todo $A \\in \\hat{\\mathscr{F}}$ se tiene que $X^{-1}(A)\\in\\mathscr{F}$.\n",
    "\n",
    "**Nota:** Si $(\\Omega,\\mathscr{F})=(\\mathbb{R},\\mathscr{B})$, se dice que $X$ es una variable aleatoria de valor real.\n",
    "\n",
    "- Depués de realizada una repetición del experimento, el valor que tome la variable para dicha repetición se denota como **realización de la variable aleatoria** y se presenta como una $x$ (letra minúscula)."
   ]
  },
  {
   "cell_type": "markdown",
   "id": "c827d546-c8d7-4638-b07c-f74782d7b459",
   "metadata": {},
   "source": [
    "## Dos correnteS de pensamiento\n",
    "- **Inferencia basada en el diseño (IBD)**\n",
    "En este modelo que se verá en el curso de Muestreo Estadístico lo que marca la aleatoriedad del diseño está en como yo escojo a los individuos de estudio, mas no cada individuo de estudio es la aleatoriedad del modelo.\n",
    "\n",
    "    1. **Variable de interés**: Atributo no aleatorio de los individuos:\n",
    "    $$ x_1,x_2,\\cdots,x_N$$\n",
    "    2. **Parámetro**:Función del vector de observaciones de la población:\n",
    "    $$f(x_1,x_2,\\cdots,x_N)$$\n",
    "    3. Generalmente, se enmarca en poblaciones **finitas**. El Censo permitiría conocer los parámetros contoda certeza.\n",
    "    4. La aleatoriedad viene inducida artificialmente por el diseño para la selección de la muestra.\n",
    "\n",
    "- **Inferencia basada en el modelo (IBM)**\n",
    "En este modelo que se manejara en estas notas veremos que los objetos de la muestra son objetos que vienen de un proceso aleatorio y por ende se asumen como variables aleatorias. Así pues los datos obsevados son meras realizaciónes de esa variable aleatoria.\n",
    "\n",
    "    1. **Variable de interés**: Realización del vector **aleatorio** multidimensional:\n",
    "    $$ X_1,X_2,\\cdots,X_N$$\n",
    "    con un modelo de distribución conjunta $\\xi$.\n",
    "    2. **Parámetro**:<ins>Vector de cantidades</ins> que caracteriza a $\\xi$ dentro de una familia de modelos probabilísticos válidos.\n",
    "    3. Generalmente, se consideran poblaciones **infinitas**. Un censo no permitiría conocer con certeza los parámetros (Superpoblación).\n",
    "    4. La aleatoriedad viene dada por la espacificación de $\\xi$.\n",
    "     "
   ]
  },
  {
   "cell_type": "markdown",
   "id": "3c1632bb-6d46-4a00-821d-d8c69f40426c",
   "metadata": {},
   "source": [
    "### Ejemplo: \n",
    "Supongamos que queremos hacer un control de calidad de de unos zapatos. Si asuminos que hay un **experimento aleatorio** detrás (por la selección de las unidades(IBD) o por la variabilidad del proceso(IBM)) con su respectivo **espacio muestral** la estadística inferencial nos dice que tenemos una variable aleatoria $X_1,X_2,\\cdots,X_n$, para lo cual estamos observando sus respectivas realizaciones $x_1=0,x_2=3,\\cdots,x_n=2$ numeros de defectos en los zapatos. Si yo volviera a realizar el experimento podriamos encontrarnos con que $x_1=1,x_2=2,\\cdots,x_n=2$ lo cual tiene sentido porque detras de cada variable aleatoria $X_i$ tienemos una distrución $\\xi$ la cual determina las realizaciones. Repitiendo el experimento un número determinado de veces podriamos obtener algo como\n",
    "\n",
    "\n",
    "| $x_1$ | $x_2$ | $\\cdots$ | $x_2$ |\n",
    "| --- | --- | --- | --- |\n",
    "| $0$ | $3$ | $\\cdots$ | $2$ |\n",
    "| $1$ | $2$ | $\\cdots$ | $2$ |\n",
    "| $1$ | $0$ | $\\cdots$ | $3$ |\n",
    "| $\\vdots$ | $\\vdots$ |  | $\\vdots$ |\n",
    "\n",
    "De esta forma el objetivo de este curso es determinar o \"conocer\" la distribución de una variable aleatoria $X_i \\sim ?$"
   ]
  },
  {
   "cell_type": "markdown",
   "id": "0167b8a4-08b1-4dc3-be66-65a7078a6050",
   "metadata": {},
   "source": [
    "<a id='DefinicionMuestraAleatoria'></a>\n",
    "### **Muestra Aleatoria**\n",
    "Las variables aleatorias $X_1,X_2,\\cdots,X_n$ se dicen una **muestra aleatoria** si:\n",
    "- $X_1,X_2,\\cdots,X_n$ son variables aleatorias independientes\n",
    "- $X_1,X_2,\\cdots,X_n$ tienen todas la misma distribución con los mismos parámetros (son idénticamente distribuidas)\n",
    "\n",
    "#### Ejemplo: \n",
    "- $X_1,X_2,\\cdots,X_n \\sim P(\\lambda)$\n",
    "- Volviendo nuevamente al ejemplo de los zapatos, podemos ver que $X_1,X_2,\\cdots,X_n$ variables aleatorias que denotan los numeros de defectos en los zapatos, si asumimos que $X_1,X_2,\\cdots,X_n$ forman una **muestra aleatoria** podríamos coger todas las observaciones de $x_1,x_2,\\cdots,x_n$ y al provenir de la misma distribución, las puedo usar de manera conjunta para determinar los parámetros de la distribución."
   ]
  },
  {
   "cell_type": "markdown",
   "id": "556aff38-f96a-4a77-8a2d-7f03e4d366a9",
   "metadata": {},
   "source": [
    "### Generalidades\n",
    "- Cuando hay un experimento aleatorio detrás, pasamos de variables a variables aleatorias.\n",
    "- Generalmente asumiremos que las variables aleatorias asociadas a nuestra muestra son:\n",
    "    - Independientes e \n",
    "    - Identicamente distribuidas.\n",
    "    \n",
    "por eso hablaremos de **muestras aleatorias**, aunque hay ramas en estadística que no necesariamente trabajan con esos supuestos.\n",
    "- La inferencia estadística (IBM) busca entonces, con ayuda de las probabilidad, **deducir las características de las variables aleatorias (parámetros)** detrás de un experimento aleatorio."
   ]
  },
  {
   "cell_type": "markdown",
   "id": "813f81a8-bb12-4536-a213-d381804de9c4",
   "metadata": {},
   "source": [
    "### Ramas de la IBM\n",
    "- **Inferencia basada en el modelo**\n",
    "    - *Inferencia paramétrica*: Cuando de asume que la población se puede modelar mediante una distribución con un conjunto **finito** de parámetros.\n",
    "        - **Frecuentista**: Los parámetros son **constantes** desconocidas. \\<- <span style=\"color:green\">**Estas Notas**</span>\n",
    "        - *Bayesiana*: los parámetros se consideran **variables aleatorias** \\<- <span style=\"color:green\">**Curso Estadistica Bayesiana**</span>\n",
    "    - *Inferencia no paramétrica*: Cuando no se realizan supuestos distribucionales convencionales para el análisis de la población. Conjunto **infinito** de parámetros.\n",
    "        - *\"(...) a better name for nonparamtetrical inference might be infinite-dimensional inference.\"* (Wasserman, 2006)"
   ]
  },
  {
   "cell_type": "markdown",
   "id": "c8551422-afd6-42cb-9774-198f6d951d1e",
   "metadata": {},
   "source": [
    "### ¿Como encontrar una \"buena\" distribución para un fenónmeno aleatorio?\n",
    "- Desde el enfoque *frecuentista*, tomar datos y observar su comportamiento es una buena idea. (histograma, etc)\n",
    "- Si están en un enfoque subjetivo *bayesiano*, acudir a expertos y tomar datos pueden ser de ayuda.\n",
    "- Hay fenómenos (sobre todo en física) donde se le da una justificación física a la elección de ciertas distribuciones, de acuerdo con las leyes naturales que lo afectan.\n"
   ]
  },
  {
   "cell_type": "markdown",
   "id": "956bfb39-8e14-4bf3-bfbd-3f3d9e7c4f8a",
   "metadata": {},
   "source": [
    "### \"Pasos\" para esocger una distribución\n",
    "- Se podría inventar una nueva distribución (discreta, continua o ambas), siempre y cuando se cumpla la teoría.\n",
    "- Sin embargo, hay un catálogo de distribuciones que han probado ser útiles en diversas aplicaciones. Aquí veremos algunas distribuciones comunes.\n",
    "\n",
    "*Ajuste de una distribución de un fenómeno.\n",
    "- Enfoque no paramétrico\n",
    "    - \"Let (only) the data speak\"\n",
    "- Enfoque paramétrico\n",
    "    - Determinar la naturaleza de la variable\n",
    "        - Discreta ?\n",
    "        - Continua ?\n",
    "        - Mixta ?\n",
    "    - Determinar el soporte de la variable\n",
    "        - El soporte de la variable debe coincidir con el soporte de la variable aleatoria que se esta manejando\n",
    "    - Identificar otras características que tiene el fenómeno\n",
    "        - Simétrica ?\n",
    "        - Continua ?\n",
    "    - \"Escoger\" el modelo más adecuado y sus parámetros"
   ]
  },
  {
   "cell_type": "markdown",
   "id": "4168bfc3-adb5-4f5d-a739-70d044fd9cfd",
   "metadata": {},
   "source": [
    "# Introducción (muy breve) a la inferencia estadística frecuentista\n",
    "\n",
    "<a id='PrincipioEstimacion'></a>\n",
    "## Principio de la estimación puntual\n",
    "- **Estimar**: Dar el valor a un parámetro de la población con la información recogida en una muestra.\n",
    "\n",
    "Como hemos dicho anteriormente una población es un grupo de unidades o elementos que queremos estudiar para luego a esa población determinarle un parámetro. Pero bajo el contexto de estadística inferencial frecuentista la población se refiere a la distribución de probabilidad que generan unos datos. Por ejemplo nos podemos referir a una muestra aleatoria de una población normal, es decir nos estamos refiriendo a una sustraccion de datos que estan siendo generados por una población normal.\n",
    "\n",
    "- **Estimador**: <ins>Variable aleatoria</ins> asociada con la manera como se procesa la muestra (aleatoria) para poder estimar el parámetro.\n",
    "\n",
    "En el procesamiento de muestra aleatoria (un grupo de variables aleatorias independientes e igualmente distribuidad con los mismos parámetros) queremos encontrar realizaciones (estimación) del parámetro, dada su naturaleza de variable aleatoria. \n",
    "\n",
    "- **Estimación**: Realización de una variable aleatoria denominada estimador. Una vez recogidos los datos de la muestra, es el cálculo que se obtiene de la estadística.\n",
    "\n",
    "Se puede tomar en un principio el cálculo de la varianza sobre la muestra, o la media sobre la muestra, etc.\n",
    "\n",
    "\n",
    "### **Estimación Puntual** \"Primera Idea\"\n",
    "Designar como valor del parámetro a la estadística (estimación) análoga calculada sobre la muestra.\n",
    "\n",
    "### **Ejemplo**:\n",
    "Se desea conocer la edad promedio de todos los estudiantes activos de la una facultad. Para ello, se desea recoger una muestra de tamaño 10.\n",
    "- **Población Objetivo**: Todos los estudiantes activos en la facultad\n",
    "- **Parámetro**: Edad promedio de todos los estudiantes activos en la facultad\n",
    "- **Estadística**: Edad promedio de los 10 estudiantes activos en la facultad incluidos en la muestra.\n",
    "\n",
    "Primero podemos suponer que el valor promedio de los 10 estudiantes en  la muestra (la estadística) es una estimación puntual del parámetro. Es decir la primera realización de la variable aleatoria del estimador es el promedio de la edad en la muestra de 10 estudiantes de la facultad. Suponga que Luis y Juana deciden hacer cada uno su estudio y quieren usar el principio de estimación puntual (lo dicho anteriormente) para estimar la edad promedio de todos los estudiantes de dicha facultad.\n",
    "\n",
    "- Por otro lado suponga que usted es Dios y tiene acceso a los datos de TODOs los estudiantes (un censo) y el histograma de la variable edad es como se muestra a continuación (usando estadística descriptiva)"
   ]
  },
  {
   "cell_type": "code",
   "execution_count": 1,
   "id": "b1ba6dc0-9e47-4413-9876-7252441a3805",
   "metadata": {},
   "outputs": [
    {
     "data": {
      "text/plain": [
       "(0.0, 77150.0)"
      ]
     },
     "execution_count": 1,
     "metadata": {},
     "output_type": "execute_result"
    },
    {
     "data": {
      "image/png": "[encoded data removed]",
      "text/plain": [
       "<Figure size 432x288 with 1 Axes>"
      ]
     },
     "metadata": {
      "needs_background": "light"
     },
     "output_type": "display_data"
    }
   ],
   "source": [
    "#librerias\n",
    "import numpy as np\n",
    "import matplotlib.pyplot as plt\n",
    "\n",
    "# Graficando histograma\n",
    "mu, sigma = 25.29, 4.53 # media y desvio estandar\n",
    "datos = np.random.normal(mu, sigma, 1000000) #creando muestra de datos\n",
    "\n",
    "# histograma de distribución normal.\n",
    "n, bins, patches = plt.hist(x=datos, bins=50, color='#0504aa',\n",
    "                            alpha=0.7, rwidth=0.85  )\n",
    "plt.grid(axis='y', alpha=0.75)\n",
    "plt.xlabel('Value')\n",
    "plt.ylabel('Frequency')\n",
    "plt.title('Distribución de Edad Estudiantes')\n",
    "plt.text(3, 40000, r'$\\mu=25.29, \\sigma=4.53 $')\n",
    "maxfreq = n.max()\n",
    "# Set a clean upper y-axis limit.\n",
    "plt.ylim(ymax=np.ceil(maxfreq / 10) * 10 if maxfreq % 10 else maxfreq + 10)"
   ]
  },
  {
   "cell_type": "markdown",
   "id": "0cf9df47-6ac6-45e3-b1fd-1d6e768217e9",
   "metadata": {},
   "source": [
    "- Por tanto se sabe que la Verdadera edad promedio es \n",
    "$$\\mu_x = 25.29 \\text{ años}$$\n",
    "- Notemos que estos dos pasos anteriores son un proceso ilustrativo, ya que en realidad, nadie es un ser supremo para conocer la información de toda la población. Si de casualidad alguna tecnología posibilitara conocer la información (en este caso de la edad) de toda la población, la estadística inferencial no tendría sentido."
   ]
  },
  {
   "cell_type": "markdown",
   "id": "ef78ad7b-fe15-4647-a993-65b621ec1ca6",
   "metadata": {},
   "source": [
    "- **El estimador es una variable aleatoria**: El experimento aleatorio consiste en seleccionar al azar 10 personas que constituitán la muestra. De este modo tenemos que el espacio muestral es el conjunto $X_1,X_2,\\cdots,X_{10}$ las cuales son 10 variables aleatorias. Luego definimos nuestro **estimador** de la siguiente manera:\n",
    "$$\\overline{X}_{10} := \\frac{X_1+X_2+\\cdots+X_{10}}{10}$$\n",
    "Es decir que  la variable aleatoria $X_1,X_2,\\cdots,X_{10}$ es aquella que envia del conjunto $\\Omega =$ grupos de 10 personas de la universidad nacional, a un $\\mathbb{R}$ donde se encuentra el promedio de edad de esas 10 personas. "
   ]
  },
  {
   "cell_type": "markdown",
   "id": "b91faf0a-59f4-4e75-b119-7909b4e747cc",
   "metadata": {},
   "source": [
    "- **Resultadios de Luis y de Juana** \n",
    "    - Luis, muy juicioso, seleccionó su mestra mediante muestreo aleatorio simple, realizó la toma de datos y obtuvo como resultado: $\\overline{x}_{10,\\text{Luis}} = 23$ años (recordemos que las realizaciones de la variable aleatoria $\\overline{X}_{10}$ se escriben en minúscula).\n",
    "    - Del mismo modo Juana, también muy juicios, seleccionó su muestra mediante muestreo aleatorio simple, realizó la toma de datos y obtuvo como resultado: $\\overline{x}_{10,\\text{Juana}} = 28.2$\n",
    "\n",
    "Tengamos en cuenta que a pesar que para Dios $\\mu=25.29$, es decir la poblacion normal tiene como parámetro la media $\\mu$, del mismo modo al definir nosostros una nueva variable aleatoria $\\overline{X}_{10}$ lo que observamos son realizaciones de la variable aleatoria. Por lo tanto no podemos decir que el uno o la otra tuvieron o no un mejor resultado. Mas adelante veremos que estas diferencias pueden darse dado que el tamaño de la muestra es muy pequeño, o dado que habria que escojer una muestra que presenta mas varianza, etc."
   ]
  },
  {
   "cell_type": "markdown",
   "id": "e0668e7c-c18e-492f-8c75-c5d28d46a298",
   "metadata": {},
   "source": [
    "- **Muchas muestras de tamaño 10**\n",
    "Luis y Juana ahora, desepcionados de la estadística, decidieron repetir el muestreo 1000 veces y observar el valor que se obtenían del promedio de la muestra en cada caso, obteniendo el siguiente histograma."
   ]
  },
  {
   "cell_type": "code",
   "execution_count": 130,
   "id": "2c400689-1205-4b9b-8888-aa5a5bc971d5",
   "metadata": {},
   "outputs": [],
   "source": [
    "# Vector de 10 y 1000 de ceros \n",
    "Muestra = np.zeros(10)\n",
    "datosMuestras = np.zeros(1000)\n",
    "\n",
    "# le asigno uniformemente 10 datos de la población 1000 veces\n",
    "for j in range(1000):\n",
    "    for i in range(10):\n",
    "        s = int(np.random.uniform(1,1000000))\n",
    "        Muestra[i] = datos[s]\n",
    "    datosMuestras[j] = np.mean(Muestra)"
   ]
  },
  {
   "cell_type": "code",
   "execution_count": 131,
   "id": "57233e1b-3911-4d8b-8c75-f5954adb14b9",
   "metadata": {},
   "outputs": [
    {
     "data": {
      "image/png": "[encoded data removed]",
      "text/plain": [
       "<Figure size 432x288 with 1 Axes>"
      ]
     },
     "metadata": {
      "needs_background": "light"
     },
     "output_type": "display_data"
    }
   ],
   "source": [
    "# Histograma del estimador de nuestro proceso\n",
    "cuenta, cajas, ignorar = plt.hist(datosMuestras, 20)\n",
    "plt.ylabel('frequencia')\n",
    "plt.xlabel('Promedio de muestras aleatorias uniformes de 10 estudiantes de la facultad (1000 veces)')\n",
    "plt.title('Histograma')\n",
    "plt.show()"
   ]
  },
  {
   "cell_type": "markdown",
   "id": "b513afa6-3342-4b7b-941b-553561647081",
   "metadata": {},
   "source": [
    "Este histograma nos esta aproximando a la distribución de la variable aleatoria $\\overline{X}_{10}$, de los cuales además podemos indicar tentativamente donde queda $\\mu,\\overline{x}_{10,\\text{Luis}},\\overline{x}_{10,\\text{Juana}}$. Recordemos la interpretación de un valor esperado $E(X)$ el cual, desde una definición fisica, es como el centroide o centro de masa, es donde se va concentrando cada vez más los datos. Es decir al tener la distribución, el valor esperado es el lugar donde podria decir que estoy en el medio de la funcion o en donde estan la mitad de los pesos. \n",
    "\n",
    "Tambien la relacion entre este histograma y el estimador de nuestro proceso es que apesar de que las estimaciones son diferentes, el estimador (v.a.) tiene como centro de masa el verdadero valor. De este modo el mecanismo de tomar varias veces la media de 10 personas al azar 1000 veces, aunque no es 100% efectivo nos acerca a el parámetro que necesitamos. En todo caso, para este ejemplo tenemos\n",
    "$$\\hat{\\mu}_{\\overline{X}_{10}} = \\hat{E}[\\overline{X}_{10}] = 25.3 \\text{ años }$$\n",
    "además la desviación estándar es de  \n",
    "$$ \\hat{\\sigma}_{\\overline{X}_{10}} = \\sqrt{\\operatorname{Var}[\\overline{X}_{10}]} = 1.42 \\text{ años } $$"
   ]
  },
  {
   "cell_type": "code",
   "execution_count": 132,
   "id": "4be7d807-b12b-4eff-a5bf-1468984a29f7",
   "metadata": {},
   "outputs": [
    {
     "data": {
      "text/plain": [
       "25.289959400498773"
      ]
     },
     "execution_count": 132,
     "metadata": {},
     "output_type": "execute_result"
    }
   ],
   "source": [
    "np.mean(datosMuestras) # Da siempre un valor aproximado"
   ]
  },
  {
   "cell_type": "code",
   "execution_count": 133,
   "id": "6248326c-d1b5-4ed2-a3df-9c49f520a145",
   "metadata": {},
   "outputs": [
    {
     "data": {
      "text/plain": [
       "1.4041943108521069"
      ]
     },
     "execution_count": 133,
     "metadata": {},
     "output_type": "execute_result"
    }
   ],
   "source": [
    "np.std(datosMuestras) # igual acá"
   ]
  },
  {
   "cell_type": "markdown",
   "id": "eafb1fac-c037-434d-b26a-cff54cc7b6a2",
   "metadata": {},
   "source": [
    "- **Muchas muestras de tamaño 50**\n",
    "Luis y Juana ahora sin nada de pereza, decidieron repetir este proceso pero en vez de definir el estimador como una variables aleatorias del promedio de 10 estudiantes aleatoriamente escogidos, decidieron hacerlo con 50 estudiantes aleatorios de la facultad. de este modo tenemos "
   ]
  },
  {
   "cell_type": "code",
   "execution_count": 134,
   "id": "63bb8e97-daeb-4f75-acd5-981decdc23db",
   "metadata": {},
   "outputs": [
    {
     "data": {
      "image/png": "[encoded data removed]",
      "text/plain": [
       "<Figure size 432x288 with 1 Axes>"
      ]
     },
     "metadata": {
      "needs_background": "light"
     },
     "output_type": "display_data"
    }
   ],
   "source": [
    "# Vector de 50 y 1000 de ceros \n",
    "Muestra = np.zeros(50)\n",
    "datosMuestras = np.zeros(1000)\n",
    "\n",
    "# le asigno uniformemente 10 datos de la población 1000 veces\n",
    "for j in range(1000):\n",
    "    for i in range(50):\n",
    "        s = int(np.random.uniform(1,1000000))\n",
    "        Muestra[i] = datos[s]\n",
    "    datosMuestras[j] = np.mean(Muestra)\n",
    "        \n",
    "# Histograma del estimador de nuestro proceso\n",
    "cuenta, cajas, ignorar = plt.hist(datosMuestras, 20)\n",
    "plt.ylabel('frequencia')\n",
    "plt.xlabel('Promedio de muestras aleatorias uniformes de 50 estudiantes de la facultad (1000 veces)')\n",
    "plt.title('Histograma')\n",
    "plt.show()"
   ]
  },
  {
   "cell_type": "markdown",
   "id": "377f1dc4-7819-4254-989c-69df29934df7",
   "metadata": {},
   "source": [
    "donde tenemos que \n",
    "$$\\hat{\\mu}_{\\overline{X}_{50}} = \\hat{E}[\\overline{X}_{50}] = 25.28 \\text{ años }$$\n",
    "y la desviación estándar es de  \n",
    "$$ \\hat{\\sigma}_{\\overline{X}_{50}} = \\sqrt{\\operatorname{Var}[\\overline{X}_{50}]} = 0.59 \\text{ años } $$"
   ]
  },
  {
   "cell_type": "code",
   "execution_count": 92,
   "id": "4f98ecf4-5ffb-4581-9791-9a855f053863",
   "metadata": {},
   "outputs": [
    {
     "data": {
      "text/plain": [
       "25.27259252406305"
      ]
     },
     "execution_count": 92,
     "metadata": {},
     "output_type": "execute_result"
    }
   ],
   "source": [
    "np.mean(datosMuestras) # Da siempre un valor aproximado"
   ]
  },
  {
   "cell_type": "code",
   "execution_count": 135,
   "id": "c6910dba-6981-4186-91a9-8cef7b085b19",
   "metadata": {},
   "outputs": [
    {
     "data": {
      "text/plain": [
       "0.6429702574963186"
      ]
     },
     "execution_count": 135,
     "metadata": {},
     "output_type": "execute_result"
    }
   ],
   "source": [
    "np.std(datosMuestras) # igual acá"
   ]
  },
  {
   "cell_type": "markdown",
   "id": "5c60a86f-fbb8-408a-b2a2-d69ca19de682",
   "metadata": {},
   "source": [
    "Notemos ahora que el promedio de nuestra nueva variable aleatoria $\\overline{X}_{50}$ su valor esperado se acerca cada vez más al parámetro que queremos conocer sobre la población, aunque la desviación estándar se va reduciendo cada vez más. Definamos entonces $\\overline{X}_{100}$ y $\\overline{X}_{900}$ las cuales van a ser variables aleatorias que estan definidas como el promedio de 100 y 900 estudiantes de la facultad escojidos al azar."
   ]
  },
  {
   "cell_type": "markdown",
   "id": "ddf88420-bc53-4b60-9aa4-e36763714e85",
   "metadata": {},
   "source": [
    "- Para $\\overline{X_{100}}$"
   ]
  },
  {
   "cell_type": "code",
   "execution_count": 136,
   "id": "6586d3f7-425d-474b-9534-92af5e70f521",
   "metadata": {},
   "outputs": [
    {
     "data": {
      "image/png": "[encoded data removed]",
      "text/plain": [
       "<Figure size 432x288 with 1 Axes>"
      ]
     },
     "metadata": {
      "needs_background": "light"
     },
     "output_type": "display_data"
    }
   ],
   "source": [
    "# Vector de 100 y 1000 de ceros \n",
    "Muestra = np.zeros(100)\n",
    "datosMuestras = np.zeros(1000)\n",
    "\n",
    "# le asigno uniformemente 10 datos de la población 1000 veces\n",
    "for j in range(1000):\n",
    "    for i in range(100):\n",
    "        s = int(np.random.uniform(1,1000000))\n",
    "        Muestra[i] = datos[s]\n",
    "    datosMuestras[j] = np.mean(Muestra)\n",
    "        \n",
    "# Histograma del estimador de nuestro proceso\n",
    "cuenta, cajas, ignorar = plt.hist(datosMuestras, 20)\n",
    "plt.ylabel('frequencia')\n",
    "plt.xlabel('Promedio de muestras aleatorias uniformes de 100 estudiantes de la facultad (1000 veces)')\n",
    "plt.title('Histograma')\n",
    "plt.show()"
   ]
  },
  {
   "cell_type": "code",
   "execution_count": 137,
   "id": "e1654146-2f59-4207-a1fb-ba6b338d9692",
   "metadata": {},
   "outputs": [
    {
     "data": {
      "text/plain": [
       "25.282010551031668"
      ]
     },
     "execution_count": 137,
     "metadata": {},
     "output_type": "execute_result"
    }
   ],
   "source": [
    "np.mean(datosMuestras) # Da siempre un valor aproximado"
   ]
  },
  {
   "cell_type": "code",
   "execution_count": 138,
   "id": "59041947-176c-4c4e-845b-888716644b92",
   "metadata": {},
   "outputs": [
    {
     "data": {
      "text/plain": [
       "0.46183655262934087"
      ]
     },
     "execution_count": 138,
     "metadata": {},
     "output_type": "execute_result"
    }
   ],
   "source": [
    "np.std(datosMuestras) # igual acá"
   ]
  },
  {
   "cell_type": "markdown",
   "id": "10123707-cc86-463a-8ec4-0339f9862f33",
   "metadata": {},
   "source": [
    "- Para $\\overline{X_{900}}$"
   ]
  },
  {
   "cell_type": "code",
   "execution_count": 139,
   "id": "5aada5bb-d263-4055-b7a7-c67f68bdc89f",
   "metadata": {},
   "outputs": [
    {
     "data": {
      "image/png": "[encoded data removed]",
      "text/plain": [
       "<Figure size 432x288 with 1 Axes>"
      ]
     },
     "metadata": {
      "needs_background": "light"
     },
     "output_type": "display_data"
    }
   ],
   "source": [
    "# Vector de 900 y 1000 de ceros \n",
    "Muestra = np.zeros(900)\n",
    "datosMuestras = np.zeros(1000)\n",
    "\n",
    "# le asigno uniformemente 10 datos de la población 1000 veces\n",
    "for j in range(1000):\n",
    "    for i in range(900):\n",
    "        s = int(np.random.uniform(1,1000000))\n",
    "        Muestra[i] = datos[s]\n",
    "    datosMuestras[j] = np.mean(Muestra)\n",
    "        \n",
    "# Histograma del estimador de nuestro proceso\n",
    "cuenta, cajas, ignorar = plt.hist(datosMuestras, 20)\n",
    "plt.ylabel('frequencia')\n",
    "plt.xlabel('Promedio de muestras aleatorias uniformes de 900 estudiantes de la facultad (1000 veces)')\n",
    "plt.title('Histograma')\n",
    "plt.show()"
   ]
  },
  {
   "cell_type": "code",
   "execution_count": 140,
   "id": "07b4303a-6431-4545-b8e3-01d6e4445c49",
   "metadata": {},
   "outputs": [
    {
     "data": {
      "text/plain": [
       "25.281877580141604"
      ]
     },
     "execution_count": 140,
     "metadata": {},
     "output_type": "execute_result"
    }
   ],
   "source": [
    "np.mean(datosMuestras) # Da siempre un valor aproximado"
   ]
  },
  {
   "cell_type": "code",
   "execution_count": 141,
   "id": "9663be9b-f439-4ab9-89c1-140685f79f4a",
   "metadata": {},
   "outputs": [
    {
     "data": {
      "text/plain": [
       "0.14571319386581272"
      ]
     },
     "execution_count": 141,
     "metadata": {},
     "output_type": "execute_result"
    }
   ],
   "source": [
    "np.std(datosMuestras) # igual acá"
   ]
  },
  {
   "cell_type": "markdown",
   "id": "9d6fbe65-68db-4374-bf4c-0d8a5c4d786e",
   "metadata": {},
   "source": [
    "Este efecto lo podemos justificar con lo que se conoce en probabilidad como la ley de los grandes números. la cual nos dice que la media muestral de una sucecion infinita de variables aleatorias su media converge a $\\mu$. Tambien podriamos observar que a pesar que el caso donde nuestra población estuviera sesgada a derecha la distribución del estimador definido con las medias muestrales de los datos tiende, a mayor tamaño de la muestra, a una distribución normal. Esto está dado por el teorma central del límite, el cual nos dice que para una serie de variables aleatorias $X_1,X_2,\\cdots,X_n$ independientes e identicamente distribuidas, con $E[X_i]=\\mu$ y $\\operatorname{Var}(X_i)=\\sigma^2 < \\infty$ se define\n",
    "$$ Z_n := \\frac{\\sum_{i=1}^{n} X_i-n\\mu}{\\sigma \\sqrt{n}} $$\n",
    "Entonces la de $Z_n$ converge a una distribución normal estandar ($\\mu_z=0,\\sigma_z=1$) cuando $n \\to \\infty$, es decir\n",
    "$$ \\lim_{n \\to \\infty} P(Z_n \\leq z) = \\Phi(z) = \\int _{-\\infty }^{z}{\\frac {1}{\\sqrt {2\\pi }}}e^{-{\\frac {x^{2}}{2}}}dx$$\n",
    "Es muy común encontrar a $Z$ en función de la media muestral $\\overline{X}$ definida de la siguiente manera\n",
    "$$ {\\displaystyle Z_{n}={\\frac {{\\overline {X}}-\\mu }{\\sigma /{\\sqrt {n}}}}} $$\n",
    "> **Nota** Del teorema anterior no podemos decir nada sobre la distribución de la variable aleatoria $X$, unicamente podemos conocer la existencia de su media y varianza."
   ]
  },
  {
   "cell_type": "markdown",
   "id": "074e7e31-d9f4-4c56-93f1-7429c7c8e9d9",
   "metadata": {},
   "source": [
    "### Porque $\\overline{X}$ es un buen estimador ?\n",
    "Es importante recordar que un estimador es una variable aleatoria, y por ende, es una función. Nosotros quiéramos que dicha función fuera **precisa** y **exacta** a la hora de darle un valor al parámetro.\n",
    "\n",
    "Cuando nos referimos a la exactitud, queremos que el estimador a pesar de tener variabilidad me de valores alrrededor de $\\mu$. Es decir que a pesar de estimar valores que solamente están alrrededor de $\\mu$ se tenga la seguridad que al repetir el experimento yo consiga igual , en el promedio, estar alrrededor de $\\mu$. De otro modo seria $E(\\overline{X}_n)=\\mu$. Esta refencia habla tambien las variables aleatorias $X_i$ donde $\\overline{X_i} = \\mu$ la llamaremos **Exactitud o insesgamiento**.\n",
    "\n",
    "Por otro lado tenemos la precisión que nos dice que la varianza $\\operatorname{Var}(\\overline{X_n}) \\to 0$ cuando $n \\to \\infty$. Para este caso yo quisiera que el estimador, a medida que aumente mi $n$ fuera mas regular en sus estimaciones, tendiera más a un mismo número o muy cerca. A esta condición la llamaremos **consistencia de estimador**."
   ]
  },
  {
   "cell_type": "markdown",
   "id": "999081c2-4126-4cb7-865e-9f789c0a1749",
   "metadata": {},
   "source": [
    "## ¿Como hacer inferencia de variables cualitativas?\n",
    "- Pero, hemos visto que para poder hacer inferencia necesitamos modelar la respuesta de cada individuo como una variable aleatoria. ¿Como definimos una variable aleatoria para un atributo cualitativo?.\n",
    "\n",
    "Cuando tenemos variables categóricas o del tipo dicotómicas, al individuo tener la categoria se puede iniciar a hacer inferencia con lo siguiente\n",
    "\n",
    "$$X=\\left\\{ \\begin{array}{ll}\n",
    "    1 & \\text{ , Si el individuo está en la categoría de interés} \\\\\n",
    "    0 & \\text{ ,  en otro caso}\n",
    "\\end{array}\\right.$$\n",
    "\n",
    "- Ésta es la única codificaión válida, mediante la cual podemos transformar una variable cualitativa en cuantitativa. Con esta codificación, las medidas estadísticas van a tener sentido.\n",
    "\n",
    "- Note que en ese caso, la variable aleatoria de interés se distribuye como una variable aleatoria de tipo Bernoulli.\n",
    "\n",
    "## Moraleja de la estimación puntual\n",
    "- En estadística, se busca usar \"buenos\" estimadores, pero NADIE puede dar cuenta de qué tan buena será la estimación que se obtenga una vez se realice el muestreo y la toma de datos. La determinación de buenos estimadores se dará más adelante. Lo que realmente se logra es entregar un estimador que pueda dar unas cuentas satisfactoriamente cercanas al resultado que se quiere obtener.\n",
    "\n",
    "- Sólo queda seleccionar un tamaño de muestra lo \"suficientemente \"grande y luego, la muestra se a bastante representativa de lo que pasa en la población. es decir que al definir el estimador con la muestra, las estimaciones sean lo suficientemente insesgada y consistente."
   ]
  },
  {
   "cell_type": "markdown",
   "id": "b52f923a-66a6-41e0-936c-4e27f6765299",
   "metadata": {},
   "source": [
    "# Distribuciones y Resultados de Probabilidad Útiles\n",
    "Vamos a ver algunas distribuciones muestrales y algunas distribuciones de probabilidad, las cuales posiblemente solo se definieron en los cursos de probabilidad. Esto porque durante el desarrollo del curso vamos a estar bajo el contexto de variables aleatorias y dentro de lo posible nos enfocaremos en estas particulares."
   ]
  },
  {
   "cell_type": "markdown",
   "id": "a380353c-6201-4bfa-a5bc-ec861a735370",
   "metadata": {},
   "source": [
    "## Otros elementos de variables aleatorias\n",
    "Estas definiciones son para dar una \"linea\" o estar en un mismo \"tono\" en cuanto a las propiedades desde el soporte de una variable aleatoria (o un vector aleatorio),\n",
    "\n",
    "### **Soporte de una variable aleatoria**\n",
    "El soporte es el conjunto de valores de la variable que tienen un \"chance\" real de ser observados como realizaciones. De este modo yo dire *en una variable aleatoria el soporte de una variable aleatoria discreta es el conjunto de observaciones para las cuales la función de masa de probabilidad evaluada en ese punto es mayor a cero\"*.\n",
    "\n",
    "- *Variables Aleatorias discretas*\n",
    "$$D_x := \\{ x \\in \\mathbb{R} \\ : p_x(x) > 0 \\}$$\n",
    "\n",
    "- *Variables Aleatorias continuas*\n",
    "$$D_x := \\{ x \\in \\mathbb{R} \\ : f_x(x) > 0 \\}$$\n",
    "\n",
    "### **Soporte de un vector aleatorio**\n",
    "El soporte es el conjunto de valores dle vector que tiene un \"chance\" real de ser observados como realizaciones\n",
    "\n",
    "- *Vectores Aleatorios discretos*\n",
    "$$D_{\\mathbf{x}} := \\{ \\mathbf{x} \\in \\mathbb{R}^{n} \\ : p_{\\mathbf{x}}(\\mathbf{x}) > 0 \\}$$\n",
    "\n",
    "- *Vectores Aleatorios continuos*\n",
    "$$D_{\\mathbf{x}} := \\{ \\mathbf{x} \\in \\mathbb{R}^{n} \\ : f_{\\mathbf{x}}(\\mathbf{x}) > 0 \\}$$"
   ]
  },
  {
   "cell_type": "markdown",
   "id": "9eef8f9c-0f0e-404c-9dd5-8eb884599e8f",
   "metadata": {},
   "source": [
    "## Función generadora de momentos y característica de un vector aleatorio\n",
    "\n",
    "### **Función generadora de momentos y característica**\n",
    "Sea $\\mathbf{X}$  un vector aleatorio en $\\mathbb{R}$ tal que  $E[e^{\\mathbf{t}^T\\mathbf{X}}]$ es finito en una bola de radio $\\alpha > 0$ alrededor de $\\mathbf{t}=\\mathbf{0}$ (vector cero). Se define entonces la f.g.m como:\n",
    "$$m_{\\mathbf{X}}(\\mathbf{t}) := E[e^{\\mathbf{t}^T\\mathbf{X}}] \\ , \\ \\text{ para todo } \\mathbf{t} \\ \\text{ tal que } ||\\mathbf{t}|| < \\alpha$$\n",
    "\n",
    "De manera análoga, se define la función característica como:\n",
    "$$\\phi_{\\mathbf{X}}(\\mathbf{t}) := E[e^{i\\mathbf{t}^T\\mathbf{X}}] \\ , \\ \\text{ para todo } \\mathbf{t} \\in \\mathbb{R}^n$$\n",
    "\n",
    "### **Teorema**\n",
    "Sean $\\mathbf{X}=(X_1,X_2,\\cdots,X_p)^{T}$  y $\\mathbf{Y}=(Y_1,Y_2,\\cdots,Y_q)^{T}$ dos vectores aleatorios. $\\mathbf{X}$ y $\\mathbf{X}$ son independientes si y sólo si:\n",
    "$$\\phi_{(\\mathbf{X}^{T},\\mathbf{Y}^{T})^T}(\\mathbf{s},\\mathbf{t}) = \\phi_{\\mathbf{X}}(\\mathbf{s})\\phi_{\\mathbf{t}} \\ \\text{ para todo } \\mathbf{s} \\in \\mathbb{R}^p \\ \\text{ y para todo } \\mathbf{t} \\in \\mathbb{R}^q$$\n",
    "\n",
    "La función generadora de momentos (f.g.m) es aquella que en su derivadas nos permite calcular los *momentos ordinarios* de una variablea aleatoria (o vector). Tambien un resutado de la f.g.m. es que si $m_{\\mathbf{X}}(\\mathbf{t}$ existe entonces $E[X^k]$ existe para todo $k in \\mathbb{N}$ y además \n",
    "$$\\frac{d^km_x}{dt^k}(t) \\Big{|}_{t=0} = E[X^k]$$\n",
    "Es importante notar que la implicación contraria no se tiene es decir, que la existencia de los momentos ordinarios no es condición suficiente para que la f.g.m. exista, ya que, por ejemplo tenemos la distribucion lognormal ($X$ v.a. tal $X \\sim N(\\mu,\\sigma^2)$ entonces $e^{X} \\sim logN(\\mu_x,\\sigma^2_x)$) donde tenemos que existen todos los momentos ordinarios, pero no tenemos que  exista una función característica. Tambien tenemos que la distribución de Cauchy no tiene función generadora de momentos, dado que el contrareciproco de la propiedad tambien es verdadero (si no existe algun momento ordinario entonces no existe la función generadora de momentos.), incluso la distribución de Cauchy no tiene nisiquiera valor esperado.\n",
    "\n",
    "Por otro lado la función característica siempre existe por el hecho que se mueve en el plano complejo. De este modo la distribución lognormal y Cauchy tienen una función característica. De este modo tenemos el siguiente resultado. Si $E[X^k]$ existe entonces \n",
    "$$i^kE[X^k] = \\frac{d^k\\varphi_x}{dt^k}(t) \\Big{|}_{t=0}$$\n",
    "lo que no significa directamente que la función tenga que tener momentos y los deja solo a los que lleguen a ser un resultado real. \n",
    "\n",
    "Otra gran importancia de la función generadora de momentos y la característica es que son como la \"cedula\" de una variable aleatoria, es decir la identifica completamente. Por ejemplo si tengo que $m_{\\mathbf{X}}(\\mathbf{t}) = e^{\\mu t + \\frac{1}{2}\\sigma^2 t^2}$ entonces puedo determinar que $X \\sim N(\\mu,\\sigma^2)$. Y esto es importante ya que al solo tener la f.g.m. podria determinar si dos variables aleatorias convergen en distribucion o tienen la misma distribución."
   ]
  },
  {
   "cell_type": "markdown",
   "id": "cdfc9235-996f-466f-9888-bb89a2ec1e7b",
   "metadata": {},
   "source": [
    "<a id='DistribuciónBernoulli'></a>\n",
    "## **Distribución Bernoulli**\n",
    "\n",
    "- **Descripción:** La variable aleatoria $X$ tomar 1 si el individo pertenece a una categoria y 0 si no pertenece. Es una distribución que permite modelar variables aleatorias de tipo dicotómico.\n",
    "\n",
    "- **Posibles valores (soporte):** $\\{ 0,1 \\}$\n",
    "\n",
    "- **Notación:** $X \\sim B(p)$ con $0<p<1$\n",
    "\n",
    "- **Parámetros:**\n",
    "    - $p \\in (0,1)$ (Valor esperado)\n",
    "\n",
    "- **Función de densidad:** $f(x) = \n",
    "\\begin{cases}\n",
    "    p & \\text{ , Si el x=1} \\\\\n",
    "    q=(1-p) & \\text{ , Si el x=0} \\\\\n",
    "\\end{cases}$\n",
    "\n",
    "- **Función de distribución:** $\n",
    "F(x)=\n",
    "\\begin{cases}\n",
    "0 & {\\text{ if }} k<0 \\\\\n",
    "1-p & {\\text{ if }} 0 \\leq k<1 \\\\\n",
    "1 & {\\text{ if }} k \\geq 1 \n",
    "\\end{cases}\n",
    "$\n",
    "\n",
    "- **Valor esperado:** $E[X]=p$\n",
    "\n",
    "- **Varianza:** $\\operatorname{Var}[X]=p(1-p)$\n",
    "\n",
    "- **Función generadora de momentos y función Característica:**\n",
    "    - $m_x(t)= q+pe^t$\n",
    "    - $\\phi_x(t)= q+pe^{it}$\n",
    "    \n",
    "- **Código `Python`:**[Fuente](https://docs.scipy.org/doc/scipy/reference/generated/scipy.stats.bernoulli.html)"
   ]
  },
  {
   "cell_type": "code",
   "execution_count": 2,
   "id": "ce89eade-2f5a-4ceb-9a1c-1681215540a5",
   "metadata": {},
   "outputs": [
    {
     "data": {
      "image/png": "[encoded data removed]",
      "text/plain": [
       "<Figure size 432x288 with 1 Axes>"
      ]
     },
     "metadata": {
      "needs_background": "light"
     },
     "output_type": "display_data"
    }
   ],
   "source": [
    "from scipy.stats import bernoulli\n",
    "import matplotlib.pyplot as plt\n",
    "import numpy as np\n",
    "\n",
    "fig, ax = plt.subplots(1, 1)\n",
    "\n",
    "#Calculate the first four moments:\n",
    "p = 0.3\n",
    "mean, var, skew, kurt = bernoulli.stats(p, moments='mvsk')\n",
    "\n",
    "#Display the probability mass function (pmf):\n",
    "x = np.arange(bernoulli.ppf(0.01, p),\n",
    "              bernoulli.ppf(0.99, p))\n",
    "ax.plot(x, bernoulli.pmf(x, p), 'bo', ms=8, label='bernoulli pmf')\n",
    "ax.vlines(x, 0, bernoulli.pmf(x, p), colors='b', lw=5, alpha=0.5)\n",
    "#Alternatively, the distribution object can be called (as a function) to fix the shape and location. This returns a “frozen” RV object holding the given parameters fixed.\n",
    "\n",
    "#Freeze the distribution and display the frozen pmf:\n",
    "rv = bernoulli(p)\n",
    "ax.vlines(x, 0, rv.pmf(x), colors='k', linestyles='-', lw=1,\n",
    "        label='frozen pmf')\n",
    "ax.legend(loc='best', frameon=False)\n",
    "plt.show()"
   ]
  },
  {
   "cell_type": "code",
   "execution_count": 3,
   "id": "cce7aa62-0d8d-41ce-b4a9-b72a6e0cfe7d",
   "metadata": {},
   "outputs": [],
   "source": [
    "#Check accuracy of cdf and ppf:\n",
    "prob = bernoulli.cdf(x, p)\n",
    "np.allclose(x, bernoulli.ppf(prob, p))\n",
    "#True\n",
    "\n",
    "#Generate random numbers:\n",
    "r = bernoulli.rvs(p, size=1000)"
   ]
  },
  {
   "cell_type": "markdown",
   "id": "cf633628-3d3f-4120-9170-03d801c56b4e",
   "metadata": {},
   "source": [
    "<a id='DistribuciónPoisson'></a>\n",
    "## **Distribución Poisson**\n",
    "\n",
    "- **Descripción:** La variable aleatoria $X$ toma valores $\\mathbb{N} \\cup \\{0\\}$\n",
    "\n",
    "- **Posibles valores (soporte):** $\\{0,1,2,\\cdots\\}$\n",
    "\n",
    "- **Notación:** $X \\sim P(\\lambda)$ con $\\lambda \\in (0,\\infty)$\n",
    "\n",
    "- **Parámetros:**\n",
    "    - $\\lambda \\in (0,\\infty)$ (Valor esperado y varianza)\n",
    "\n",
    "- **Función de densidad:** $f(x) = \n",
    "\\begin{cases}\n",
    "    p & \\text{ , Si el x=1} \\\\\n",
    "    q=(1-p) & \\text{ , Si el x=0} \\\\\n",
    "\\end{cases}$\n",
    "\n",
    "- **Función de distribución:** $\n",
    "p_X[X=k]=\n",
    "\\begin{cases}\n",
    "\\operatorname{P}[X=k]=\\frac{e^{-\\lambda }\\lambda ^{k}}{k!} & \\text{si } k\\geq 0 \\\\\n",
    "0 & \\text{en otro caso}\n",
    "\\end{cases}\n",
    "$\n",
    "\n",
    "- **Valor esperado:** $E[X]=\\lambda$\n",
    "\n",
    "- **Varianza:** $\\operatorname{Var}[X]=\\lambda$\n",
    "\n",
    "- **Función generadora de momentos y función Característica:**\n",
    "    - $m_x(t)= e^{ \\lambda (e^{t}-1) }$\n",
    "    - $\\phi_x(t)= e^{ \\lambda (e^{it}-1) }$\n",
    "    \n",
    "- **Código `Python`:**[Fuente](https://docs.scipy.org/doc/scipy/reference/generated/scipy.stats.poisson.html)"
   ]
  },
  {
   "cell_type": "code",
   "execution_count": 4,
   "id": "bcaec087-4f6a-4a55-ace2-f0914dd5d6e6",
   "metadata": {},
   "outputs": [
    {
     "data": {
      "image/png": "[encoded data removed]",
      "text/plain": [
       "<Figure size 432x288 with 1 Axes>"
      ]
     },
     "metadata": {
      "needs_background": "light"
     },
     "output_type": "display_data"
    }
   ],
   "source": [
    "from scipy.stats import poisson\n",
    "import matplotlib.pyplot as plt\n",
    "import numpy as np\n",
    "fig, ax = plt.subplots(1, 1)\n",
    "\n",
    "#Calculate the first four moments:\n",
    "mu = 0.6\n",
    "mean, var, skew, kurt = poisson.stats(mu, moments='mvsk')\n",
    "\n",
    "#Display the probability mass function (pmf):\n",
    "x = np.arange(poisson.ppf(0.01, mu),\n",
    "              poisson.ppf(0.99, mu))\n",
    "ax.plot(x, poisson.pmf(x, mu), 'bo', ms=8, label='poisson pmf')\n",
    "ax.vlines(x, 0, poisson.pmf(x, mu), colors='b', lw=5, alpha=0.5)\n",
    "#Alternatively, the distribution object can be called (as a function) to fix the shape and location. This returns a “frozen” RV object holding the given parameters fixed.\n",
    "\n",
    "#Freeze the distribution and display the frozen pmf:\n",
    "rv = poisson(mu)\n",
    "ax.vlines(x, 0, rv.pmf(x), colors='k', linestyles='-', lw=1,\n",
    "        label='frozen pmf')\n",
    "ax.legend(loc='best', frameon=False)\n",
    "plt.show()"
   ]
  },
  {
   "cell_type": "code",
   "execution_count": 5,
   "id": "2301083d-b0df-4451-a97d-b9f3285377bf",
   "metadata": {},
   "outputs": [],
   "source": [
    "#Check accuracy of cdf and ppf:\n",
    "prob = poisson.cdf(x, mu)\n",
    "np.allclose(x, poisson.ppf(prob, mu))\n",
    "#True\n",
    "\n",
    "#Generate random numbers:\n",
    "r = poisson.rvs(mu, size=1000)"
   ]
  },
  {
   "cell_type": "markdown",
   "id": "4612550f-2e00-4ee6-8814-87ac30b4ac60",
   "metadata": {},
   "source": [
    "<a id='DistribucionNormal'></a>\n",
    "## **Distribución Normal o Gaussiana**\n",
    "- **Descripción:** La variable aleatoria $X$ puede tomar cualquier número real. Es la distribución más comúnmente usada y (abusada).\n",
    "\n",
    "- **Posibles valores (soporte):** $(-\\infty,\\infty)$\n",
    "\n",
    "- **Notación:** $X \\sim N(\\mu,\\sigma^2)$\n",
    "\n",
    "- **Parámetros:**\n",
    "    - $\\mu \\in \\mathbb{R}$ (Valor esperado)\n",
    "    - $\\sigma \\in \\mathbb{R}^+$ (Varianza)\n",
    "\n",
    "- **Función de densidad:** $f_X(x)=\\frac{1}{\\sqrt{2 \\pi} \\sigma}\\operatorname{exp}\\left[ \\frac{-(x-\\mu)^2}{2\\sigma^2} \\right] $\n",
    "\n",
    "- **Función de distribución:** No tiene expresión analítica\n",
    "\n",
    "- **Valor esperado:** $E[X]=\\mu$\n",
    "\n",
    "- **Varianza:** $\\operatorname{Var}[X]=\\sigma^2$\n",
    "\n",
    "- **Función generadora de momentos y función Característica:**\n",
    "    - $m_x(t)= \\operatorname{exp}[\\mu t + \\frac{1}{2}\\sigma^2t^2]$\n",
    "    - $\\phi_x(t)= \\operatorname{exp}[i\\mu t + \\frac{1}{2}\\sigma^2t^2]$\n",
    "    \n",
    "- **Código `Python`:**[Fuente](https://docs.scipy.org/doc/scipy/reference/generated/scipy.stats.norm.html)"
   ]
  },
  {
   "cell_type": "code",
   "execution_count": 2,
   "id": "e6629ed9-47b8-483a-9451-741aae372f94",
   "metadata": {},
   "outputs": [
    {
     "data": {
      "image/png": "[encoded data removed]",
      "text/plain": [
       "<Figure size 432x288 with 1 Axes>"
      ]
     },
     "metadata": {
      "needs_background": "light"
     },
     "output_type": "display_data"
    }
   ],
   "source": [
    "from scipy.stats import norm\n",
    "import matplotlib.pyplot as plt\n",
    "import numpy as np\n",
    "fig, ax = plt.subplots(1, 1)\n",
    "\n",
    "#Calculate the first four moments:\n",
    "mean, var, skew, kurt = norm.stats(moments='mvsk')\n",
    "\n",
    "#Display the probability density function (pdf):\n",
    "x = np.linspace(norm.ppf(0.01),\n",
    "                norm.ppf(0.99), 100)\n",
    "ax.plot(x, norm.pdf(x),\n",
    "       'r-', lw=5, alpha=0.6, label='norm pdf')\n",
    "#Alternatively, the distribution object can be called (as a function) to fix the shape, location and scale parameters. This returns a “frozen” RV object holding the given parameters fixed.\n",
    "\n",
    "#Freeze the distribution and display the frozen pdf:\n",
    "rv = norm()\n",
    "ax.plot(x, rv.pdf(x), 'k-', lw=2, label='frozen pdf')\n",
    "\n",
    "#Check accuracy of cdf and ppf:\n",
    "vals = norm.ppf([0.001, 0.5, 0.999])\n",
    "np.allclose([0.001, 0.5, 0.999], norm.cdf(vals))\n",
    "True\n",
    "\n",
    "#Generate random numbers:\n",
    "r = norm.rvs(size=1000)\n",
    "\n",
    "#And compare the histogram:\n",
    "ax.hist(r, density=True, histtype='stepfilled', alpha=0.2)\n",
    "ax.legend(loc='best', frameon=False)\n",
    "plt.show()"
   ]
  },
  {
   "cell_type": "markdown",
   "id": "0b4ec7a7-2162-4d4a-b40b-e0c50bcdcc23",
   "metadata": {},
   "source": [
    "- Algunos posibles resultados desde la función de densiddad es que es una función simétrica, definida positiva y la varianza determina el ancho del \"acampanamiento\" de la concavidad y la media donde se centra. Tambien si tenemosuna normal estandar en una desviacion estándar de la media tenemos el 68% de los datos, a dos desviaciones estándar el 95% y a 3 el 99%."
   ]
  },
  {
   "cell_type": "markdown",
   "id": "365f37b0-eb08-421a-9799-791537888390",
   "metadata": {},
   "source": [
    "<a id='DistribucionNormalMultivariada'></a>\n",
    "## **Distribución Normal Multivariada**\n",
    "La definición general es que cualquier combinación lineal tiene distribución normal (así sea degenerada). Si la matriz de varianzas y covarianzas es invertible, se tienen estas propiedades. Esta distribución es famosa dado que es una de las pocas distribuciones multivariadas que sigue respetando muchas de las propiedades que se ven en los cursos de probabilidad.\n",
    "\n",
    "- **Notación:**  $\\mathbf{X} = (X_1 , X_2 , \\cdots , X_n)^T \\sim MVN(\\mathbf{\\mu}_{\\mathbf{X}},\\Sigma_{\\mathbf{X}})$\n",
    "\n",
    "- **Valores posibles de soporte**: $\\mathbb{R}^n$\n",
    "\n",
    "- **Parámetros:** \n",
    "    - $\\mu_{\\mathbf{X}} \\in \\mathbb{R}$ es el vector de los valores esperados\n",
    "    - $\\mathbf{0} \\prec \\Sigma_{\\mathbf{X}} \\in \\mathbb{R}^{n \\times n}$ es la matriz simétrica definida positiva de varianzas y covarianzas.\n",
    "\n",
    "- **Función de densidad de probabilidad:** $f_{\\mathbf{X}}(\\mathbf{X}) =  {\\displaystyle f_{\\mathbf{X}}(X_{1},\\dots ,X_{n})={\\frac {1}{(2\\pi )^{n/2}|\\Sigma_{\\mathbf{X}} |^{1/2}}}\\exp \\left(-{\\frac {1}{2}}({\\mathbf {x}}-{\\mathbf {\\mu_{\\mathbf{X}} }})^{\\top }\\Sigma_{\\mathbf{X}} ^{-1}({\\mathbf {x}}-{\\mathbf {\\mu_{\\mathbf{X}} }})\\right)}$\n",
    "\n",
    "- **Función de distribución:** No se tiene una fórmula general\n",
    "\n",
    "- **Valor Esperado:** $E[\\mathbf{X}] =  \\mu_{\\mathbf{X}} = (\\mu_1, \\cdots, \\mu_n)^T$\n",
    "\n",
    "- **Varianza:** $\\operatorname{Var}[X_i] = (\\Sigma_{\\mathbf{X}})_{ii}$\n",
    "\n",
    "- **Covarianza:** $\\operatorname{cov}(X_i,X_j) = (\\Sigma_{\\mathbf{X}})_{ij}$ con $i \\neq j$ (recordemos que las covarianzas miden linealmente la relación entre dos variables aleatorias)\n",
    "\n",
    "- **Función generadora de momentos y característica:**\n",
    "    - $m_{\\mathbf{X}}(\\mathbf{t}) = \\operatorname{exp} [\\mathbf{t}^T \\mu_{\\mathbf{X}} + \\frac{1}{2} \\mathbf{t}^T \\Sigma_{\\mathbf{X}} \\mathbf{t}]$\n",
    "    - $\\phi_{\\mathbf{X}}(\\mathbf{t}) = \\operatorname{exp} [i\\mathbf{t}^T \\mu_{\\mathbf{X}} - \\frac{1}{2} \\mathbf{t}^T \\Sigma_{\\mathbf{X}} \\mathbf{t}]$"
   ]
  },
  {
   "cell_type": "code",
   "execution_count": 3,
   "id": "849676b9-a9c5-469c-bb84-5de8a71cbd18",
   "metadata": {},
   "outputs": [
    {
     "data": {
      "image/png": "[encoded data removed]",
      "text/plain": [
       "<Figure size 432x288 with 1 Axes>"
      ]
     },
     "metadata": {
      "needs_background": "light"
     },
     "output_type": "display_data"
    }
   ],
   "source": [
    "import numpy as np\n",
    "import matplotlib.pyplot as plt\n",
    "from scipy.stats import multivariate_normal\n",
    "from mpl_toolkits.mplot3d import Axes3D\n",
    "\n",
    "\n",
    "#Parameters to set\n",
    "mu_x = 0\n",
    "variance_x = 3\n",
    "\n",
    "mu_y = 0\n",
    "variance_y = 15\n",
    "\n",
    "#Create grid and multivariate normal\n",
    "x = np.linspace(-10,10,500)\n",
    "y = np.linspace(-10,10,500)\n",
    "X, Y = np.meshgrid(x,y)\n",
    "pos = np.empty(X.shape + (2,))\n",
    "pos[:, :, 0] = X; pos[:, :, 1] = Y\n",
    "rv = multivariate_normal([mu_x, mu_y], [[variance_x, 0], [0, variance_y]])\n",
    "\n",
    "#Make a 3D plot\n",
    "fig = plt.figure()\n",
    "ax = fig.gca(projection='3d')\n",
    "ax.plot_surface(X, Y, rv.pdf(pos),cmap='viridis',linewidth=0)\n",
    "ax.set_xlabel('X axis')\n",
    "ax.set_ylabel('Y axis')\n",
    "ax.set_zlabel('Z axis')\n",
    "plt.show()"
   ]
  },
  {
   "cell_type": "markdown",
   "id": "d13d4b27-e0b4-4819-bad6-caad2eed4dea",
   "metadata": {},
   "source": [
    "### Características de la distribución normal\n",
    "\n",
    "- Si $X \\sim N(\\mu,\\sigma)$ entonces $\\mathbf{Y} = aX+b \\sim N(a\\mu + b , \\  a^2\\sigma^2)$ siempre que $a \\neq 0$ (***Dem en 202111 1:24:00***)\n",
    "\n",
    "    - En particular tenemos que $Z=\\frac{X-\\mu}{\\sigma} \\sim N(0,1)$\n",
    "\n",
    "para demostrar este hecho, el método a usar es ver que la f.g.m. de $Y$ es de la forma $\\operatorname{exp}[t(a\\mu + b) + \\frac{1}{2}t^2a^2\\sigma^2]$ (normalmente, dado que podemos probar haciendo uso del teorema de transformación  el cual solo nos funciona siempre que la transformación sea monótona y por ultimo tambien podemos hacer uso de la definición de la función de distribución de la variable aleatoria $Y$.\n",
    "\n",
    "- Si $X_1,X_2,\\cdots,X_n$ son variables aleatorias independientes con $X_i \\sim N(\\mu_i, \\sigma_i^2)$\n",
    "    - $\\mathbf{X}=(X_1,X_2,\\cdots,X_n)^T \\sim MVN(\\mu_{\\mathbf{X}} , \\Sigma_{\\mathbf{X}})$ donde $\\mu_{\\mathbf{X}}=(\\mu_1,\\mu_2,\\cdots,\\mu_n)^T$ y $\\Sigma_{\\mathbf{X}} = \\operatorname{diag}\\{ \\sigma_1,\\sigma_2\\cdots,\\sigma_n \\}$ (***Dem en 202111 1:34:00***)\n",
    "\n",
    ".\n",
    "\n",
    "- Si $\\mathbf{X} \\sim MVN(\\mu_{\\mathbf{X}} , \\Sigma_{\\mathbf{X}})$ entonces $\\mathbf{a}^T\\mathbf{X} + b \\sim N(\\mathbf{a}^T\\mu_{\\mathbf{X}} + b, \\mathbf{a}^T\\Sigma_{\\mathbf{X}}\\mathbf{a})$ (***Dem taller, 20211011 1:30:00***)"
   ]
  },
  {
   "cell_type": "markdown",
   "id": "162d7ab6-39ea-4874-8eee-bde168957908",
   "metadata": {},
   "source": [
    "<a id='DistribucionChiCuadrado'></a>\n",
    "## **Distribución Chi cuadrado**\n",
    "\n",
    "- **Descripción:** La variable aleatoria $X$ Puede tomar valores positivos. Muy útil en inferencia estadística.\n",
    "\n",
    "- **Posibles valores:** $[0,\\infty)$ (el cero no es de vital importancia por lo que en ocasiones la encontramos definida en $\\mathbb{R}^+$)\n",
    "\n",
    "- **Notación:** $X \\sim \\chi^2(n)$\n",
    "\n",
    "- **Parámetros:** $n \\in \\mathbb{N}^+$ Grados de libertad\n",
    "\n",
    "- **Función de densidad:**\n",
    "$$ f_{X}(x)= \\frac{(\\frac{1}{2})^{\\frac{n}{2}}}{\\Gamma(\\frac{n}{2})}x^{(\\frac{n}{2}-1)}e^{(\\frac{-x}{2})} I_{[0,\\infty)}(x)$$\n",
    "para las $x \\geq 0$ y $f_{X}(x)=0$ en otro caso. (En el desarrollo de este curso no trabajaremos tanto con la función de densidad de una variable aleatoria $\\chi^2$, pero si con los momentos.)\n",
    "\n",
    "- **Función de distribución:** No tiene expresión analítica\n",
    "\n",
    "- **Valor esperado:** $E[X]=n$\n",
    "\n",
    "- **Varianza:** $\\operatorname{Var}[X]=2n$\n",
    "\n",
    "- **Función generadora de momentos y característica:**\n",
    "    \n",
    "    - $m_x(t) = (1-2t)^{(\\frac{-n}{2})}$ para los valores $t<\\frac{1}{2}$ (notemos que los valores para los cuales va a estar definida la función generadora de momentos son para los $t<\\frac{1}{2}$ y esto es por la definición de la función generadora de momentos que no dice que existe solamenta para los $t$ tales que $E[e^{tx}]<\\infty$ )\n",
    "    \n",
    "    -$\\phi_x(t)=(1-2it)^{(\\frac{-n}{2})}$\n",
    "    \n",
    "- **Código útil en `Python`** [Referencia](https://www.statology.org/plot-chi-square-distribution-python/)"
   ]
  },
  {
   "cell_type": "code",
   "execution_count": 1,
   "id": "04a6512b-5524-4984-b512-19c4d4dadcd1",
   "metadata": {},
   "outputs": [
    {
     "data": {
      "text/plain": [
       "Text(0.5, 1.0, 'Chi-Square Distributions')"
      ]
     },
     "execution_count": 1,
     "metadata": {},
     "output_type": "execute_result"
    },
    {
     "data": {
      "image/png": "[encoded data removed]",
      "text/plain": [
       "<Figure size 432x288 with 1 Axes>"
      ]
     },
     "metadata": {
      "needs_background": "light"
     },
     "output_type": "display_data"
    }
   ],
   "source": [
    "import numpy as np\n",
    "import matplotlib.pyplot as plt\n",
    "from scipy.stats import chi2\n",
    "\n",
    "#x-axis ranges from 0 to 20 with .001 steps\n",
    "x = np.arange(0, 20, 0.001)\n",
    "\n",
    "#define multiple Chi-square distributions\n",
    "plt.plot(x, chi2.pdf(x, df=4), label='df: 4', color='gold')\n",
    "plt.plot(x, chi2.pdf(x, df=8), label='df: 8', color='red')\n",
    "plt.plot(x, chi2.pdf(x, df=12), label='df: 12', color='pink') \n",
    "\n",
    "#add legend to plot\n",
    "plt.legend(title='Parameters')\n",
    "\n",
    "#add axes labels and a title\n",
    "plt.ylabel('Density')\n",
    "plt.xlabel('x')\n",
    "plt.title('Chi-Square Distributions', fontsize=14)"
   ]
  },
  {
   "cell_type": "markdown",
   "id": "28a9b712-924b-496b-8cb5-fd957b7ee0d8",
   "metadata": {},
   "source": [
    "### Características de la distribución Chi cuadrado\n",
    "\n",
    "#### **Teorema** Propiedades útiles de la distribución Chi cuadrado\n",
    "\n",
    "- Si $Z \\sim N(0,1)$ entonces $Z^2 \\sim \\chi^2(1)$ ***(Dem idea 20211018 7:20)*** (recordar que estas pruebas se pueden llegar desde La funcion de distribucion, desde la f.g.m., f. característica o la función de masa de probabilidad siempre que la variable sea discreta)\n",
    "\n",
    "- Si $Z_1,Z_2,\\cdots,Z_n$ son una muestra aleatoria con distribución conjunta $Z_i \\sim N(0,1)$ entonces $\\sum_{i=1}^{n} Z_i^{2} \\sim \\chi^{2}(n)$ ***(Dem 20211018 19:00)***\n",
    "\n",
    "- En general, la suma de Chi-cuadrados independientes tienen dienen distribución Chi-cuadrado con la suma de los grados de libertad.\n",
    "\n",
    "- $\\chi^{2}(n) \\overset{d}{=} \\Gamma(\\frac{n}{2},\\frac{1}{2})$"
   ]
  },
  {
   "cell_type": "markdown",
   "id": "c39d151b-e43b-491c-84d2-2ea3d626af48",
   "metadata": {},
   "source": [
    "<a id='DistribucionT'></a>\n",
    "## **Distribución t de Student**\n",
    "\n",
    "- **Descripción:** La variable $X$ puede tomar cualquier número real. Muy útil en inferencia estadística\n",
    "\n",
    "- **Posibles valores:** $(-\\infty,\\infty)= \\mathbb{R}$\n",
    "\n",
    "- **Notación:** $X \\sim t(n)$\n",
    "\n",
    "- **Parámetros:** $n \\in \\mathbb{N}^+$ grados de libertad (Es importante saber que la distribución t de studen admite un número real de grados de libertad pero manejar esa distribución de esa manera se sale de los límites de este curso.)\n",
    "\n",
    "- **Función de densidad:** \n",
    "$$f_X(x) = \\frac{1}{\\sqrt{n\\pi}}\\Gamma\\left(\\frac{n+1}{2}\\right)\\left[\\Gamma(\\frac{n}{2})\\right]^{-1}\\left(1+\\frac{x^2}{n}\\right)^{-(\\frac{n+1}{2})}$$\n",
    "\n",
    "- **Función de distribución:** No tiene una expresión analítica\n",
    "\n",
    "- **Valor esperado:** $E[X]=0$\n",
    "\n",
    "- **Varianza:** $\\operatorname{Var}[X]=\\frac{n}{n-2}$ siempre que $n>0$ (notemos que la varianza es para grados de libertad mayores a 2, puede preguntarse porque tiene valor esperado pero no tiene varianza y eso es posible dado que  si un momento existe, los momentos anteriores a este tambien existen, lo cual es consecuente a decir que no existen momentos 3 0 4 para los grados de libertad menores o iguales a 2)\n",
    "\n",
    "- **Función generadora de momentos y característica:**\n",
    "    - $m_X(t)$ no existe\n",
    "    - $\\phi_X(t)$ no es sencilla\n",
    "    \n",
    "- **Código útil en `Python`** [Referencia](https://docs.scipy.org/doc/scipy/reference/generated/scipy.stats.t.html)"
   ]
  },
  {
   "cell_type": "code",
   "execution_count": 4,
   "id": "c453c0d1-f4b9-43b9-a4a2-2c30f5c88b60",
   "metadata": {},
   "outputs": [
    {
     "data": {
      "image/png": "[encoded data removed]",
      "text/plain": [
       "<Figure size 432x288 with 1 Axes>"
      ]
     },
     "metadata": {
      "needs_background": "light"
     },
     "output_type": "display_data"
    }
   ],
   "source": [
    "from scipy.stats import t\n",
    "import numpy as np\n",
    "import matplotlib.pyplot as plt\n",
    "fig, ax = plt.subplots(1, 1)\n",
    "\n",
    "#Calculate the first four moments:\n",
    "df = 2.74\n",
    "mean, var, skew, kurt = t.stats(df, moments='mvsk')\n",
    "\n",
    "#Display the probability density function (pdf):\n",
    "x = np.linspace(t.ppf(0.01, df),\n",
    "                t.ppf(0.99, df), 100)\n",
    "ax.plot(x, t.pdf(x, df),\n",
    "       'r-', lw=5, alpha=0.6, label='t pdf')\n",
    "#Alternatively, the distribution object can be called (as a function) to fix the shape, location and scale parameters. This returns a “frozen” RV object holding the given parameters fixed.\n",
    "\n",
    "#Freeze the distribution and display the frozen pdf:\n",
    "rv = t(df)\n",
    "ax.plot(x, rv.pdf(x), 'k-', lw=2, label='frozen pdf')\n",
    "\n",
    "#Check accuracy of cdf and ppf:\n",
    "vals = t.ppf([0.001, 0.5, 0.999], df)\n",
    "np.allclose([0.001, 0.5, 0.999], t.cdf(vals, df))\n",
    "#True\n",
    "\n",
    "#Generate random numbers:\n",
    "r = t.rvs(df, size=1000)\n",
    "\n",
    "#And compare the histogram:\n",
    "ax.hist(r, density=True, histtype='stepfilled', alpha=0.2)\n",
    "ax.legend(loc='best', frameon=False)\n",
    "plt.show()"
   ]
  },
  {
   "cell_type": "markdown",
   "id": "1c7f400d-d8d0-4302-8ce0-178e3efa7d10",
   "metadata": {},
   "source": [
    "### Característica de la distribución t de Student\n",
    "\n",
    "<a id='CaracteristicasDistribucionT'></a>\n",
    "#### **Teorema** propiedades útiles de la distribución t de Student\n",
    "- Si $Z \\sim N(0,1)$ y $Y \\sim \\chi^2(n)$ son independientes, entonces \n",
    "$$ \\frac{Z}{\\sqrt{\\frac{Y}{n}}} \\sim t(n) $$\n",
    "(***Mención 20211018 33:20*** esta prueba se podria hacer mediante el teorema de transformación pero es bastante \"tedioso\" de hacer para los objetivos de esta curso.)\n",
    "Al momento de necesitar está distribución la vamos a carcterizar es de la forma como está dado este resultado.\n",
    "\n",
    "- Sea $\\{ T_n \\}$ tal que $T_k \\sim t(k)$, entonces $T_n \\underset{n \\to \\infty}{\\overset{d}{\\longrightarrow}} Z \\sim N(0,1)$ (lo que quiere decir este resultado es que una sucesión de variables aleatorias $\\{ T_n \\}$ con distribución t y con k grados de libertad converge en distribución a una normal estándar cuando k tiende a infinito)"
   ]
  },
  {
   "cell_type": "markdown",
   "id": "d4d3c21a-097c-4e6f-9055-d07d65b63987",
   "metadata": {},
   "source": [
    "<a id='DistribucionF'></a>\n",
    "## **Distribución F de Fisher**\n",
    "\n",
    "- **Descripción:** La variable aleatoria $X$ puede tomar cualquier número real positivo. Muy útil en inferencia estadística\n",
    "\n",
    "- **Posibles valores:** $(0,\\infty)= \\mathbb{R}^+$\n",
    "\n",
    "- **Notación:** $X \\sim F(m,n))$\n",
    "\n",
    "- **Parámetros:** $m,n \\in \\mathbb{N}^+$ grados de libertad del numerador y grados de libertad del denominador ()\n",
    "\n",
    "- **Función de densidad:** \n",
    "$$\n",
    "{\\displaystyle f_X(x)={\\frac {\\Gamma \\left({\\frac {m+n}{2}}\\right)}{\\Gamma \\left({\\frac {m}{2}}\\right)\\Gamma \\left({\\frac {n}{2}}\\right)}}\\left({\\frac {m}{n}}\\right)^{\\frac {m}{2}}{\\frac {x^{\\frac {m-2}{2}}}{\\left(1+{\\frac {mx}{n}}\\right)^{\\frac {m+n}{2}}}}} I_{(0,\\infty)(x)}$$\n",
    "\n",
    "- **Función de distribución:** No tiene una expresión analítica\n",
    "\n",
    "- **Valor esperado:** $E[X]=\\frac{n}{n-2}$ siempre que $n>2$\n",
    "\n",
    "- **Varianza:** $\\operatorname{Var}[X]=\\frac{2n^2(m+n-2)}{m(n-2)^2(n-4)}$ siempre que $n>4$ ()\n",
    "\n",
    "- **Función generadora de momentos y característica:**\n",
    "    - $m_X(t)$ no existe\n",
    "    - $\\phi_X(t)$ no es sencilla\n",
    "\n",
    "- **Código útil en `Python`** [Referencia](https://docs.scipy.org/doc/scipy/reference/generated/scipy.stats.f.html)"
   ]
  },
  {
   "cell_type": "code",
   "execution_count": 5,
   "id": "2989711d-81b2-4f0d-bbff-aca9a211c9a5",
   "metadata": {},
   "outputs": [
    {
     "data": {
      "image/png": "[encoded data removed]",
      "text/plain": [
       "<Figure size 432x288 with 1 Axes>"
      ]
     },
     "metadata": {
      "needs_background": "light"
     },
     "output_type": "display_data"
    }
   ],
   "source": [
    "from scipy.stats import f\n",
    "import matplotlib.pyplot as plt\n",
    "import numpy as np\n",
    "fig, ax = plt.subplots(1, 1)\n",
    "\n",
    "#Calculate the first four moments:\n",
    "dfn, dfd = 29, 18\n",
    "mean, var, skew, kurt = f.stats(dfn, dfd, moments='mvsk')\n",
    "\n",
    "#Display the probability density function (pdf):\n",
    "x = np.linspace(f.ppf(0.01, dfn, dfd),\n",
    "                f.ppf(0.99, dfn, dfd), 100)\n",
    "ax.plot(x, f.pdf(x, dfn, dfd),\n",
    "       'r-', lw=5, alpha=0.6, label='f pdf')\n",
    "#Alternatively, the distribution object can be called (as a function) to fix the shape, location and scale parameters. This returns a “frozen” RV object holding the given parameters fixed.\n",
    "\n",
    "#Freeze the distribution and display the frozen pdf:\n",
    "rv = f(dfn, dfd)\n",
    "ax.plot(x, rv.pdf(x), 'k-', lw=2, label='frozen pdf')\n",
    "\n",
    "#Check accuracy of cdf and ppf:\n",
    "vals = f.ppf([0.001, 0.5, 0.999], dfn, dfd)\n",
    "np.allclose([0.001, 0.5, 0.999], f.cdf(vals, dfn, dfd))\n",
    "#True\n",
    "\n",
    "#Generate random numbers:\n",
    "r = f.rvs(dfn, dfd, size=1000)\n",
    "\n",
    "#And compare the histogram:\n",
    "ax.hist(r, density=True, histtype='stepfilled', alpha=0.2)\n",
    "ax.legend(loc='best', frameon=False)\n",
    "plt.show()"
   ]
  },
  {
   "cell_type": "markdown",
   "id": "517d43f6-3567-4507-882c-d7c69ac81f76",
   "metadata": {},
   "source": [
    "### Característica de la distribución F de Fisher\n",
    "\n",
    "#### **Teorema** propiedades útiles de la distribución F de Fisher\n",
    "- Si $W \\sim \\chi^2(m)$ e $Y \\sim \\chi^2(n)$ son dos variables aleatorias independientes, entonces tenemos que \n",
    "$$ \\frac{\\frac{W}{m}}{\\frac{Y}{n}} \\sim F(m,n)$$\n",
    "nuevamente la caracterización de la variable aleatoria se presenta mejor de esta manera, es decir que cada vez que tengamos una variable aleatoria de este tipo, el objetivo va a ser encontrar las dos distribuciones chi cuadrado con m y n grados de libertad respectivamente.\n",
    "\n",
    "- Si $F_1 \\sim F(m,n)$ entonces $\\frac{1}{F_1}\\sim F(n,m)$ (***Dem 20211018 44:50***)\n",
    "\n",
    "- Si $T \\sim t(n)$ entonces $T^2 \\sim F(1,n)$(***Dem 20211018 46:40***)\n",
    "\n",
    "- Sea $\\{ F_n \\}$ tal que $F_k \\sim F(m,k)$ entonces $F_n \\underset{n \\to \\infty}{\\overset{d}{\\longrightarrow}} \\chi^2(m)$"
   ]
  },
  {
   "cell_type": "markdown",
   "id": "a54a2146-8f2f-4f97-9132-5c9838cf64ee",
   "metadata": {},
   "source": [
    "<a id='DistribucionCauchy'></a>\n",
    "## **Distribución de Cauchy**\n",
    "\n",
    "- **Descripción:** La variable aleatoria $X$ puede tomar cualquier número real positivo. \n",
    "\n",
    "- **Posibles valores:** $\\mathbb{R}$\n",
    "\n",
    "- **Notación:** $X \\sim Cauchy(x_o,\\gamma)$\n",
    "\n",
    "- **Parámetros:** $x_o \\in \\mathbb{R}$ locación y $\\gamma \\in \\mathbb{R}^+$ escala.\n",
    "\n",
    "- **Función de densidad:** \n",
    "$$\n",
    "f(x;x_{0},\\gamma )={\\frac  {1}{\\pi \\gamma \\left[1+\\left({\\frac  {x-x_{0}}{\\gamma }}\\right)^{2}\\right]}}={1 \\over \\pi \\gamma }\\left[{\\gamma ^{2} \\over (x-x_{0})^{2}+\\gamma ^{2}}\\right]\n",
    "$$\n",
    "\n",
    "- **Función de distribución:** \n",
    "$$\n",
    "F(x; x_0,\\gamma)=\\frac{1}{\\pi} \\arctan\\left(\\frac{x-x_0}{\\gamma}\\right)+\\frac{1}{2}\n",
    "$$\n",
    "\n",
    "- **Valor esperado:** no definido\n",
    "\n",
    "- **Varianza:** no definida\n",
    "\n",
    "- **Función generadora de momentos y característica:**\n",
    "    - $m_X(t)$ no existe\n",
    "    - $\\phi_X(t) = \\exp(x_{0}\\,i\\,t-\\gamma \\,|t|)$\n",
    "\n",
    "- **Código útil en `Python`** [Referencia](https://docs.scipy.org/doc/scipy/reference/generated/scipy.stats.cauchy.html)"
   ]
  },
  {
   "cell_type": "code",
   "execution_count": 9,
   "id": "e7ccb7b0-d9af-477f-b903-328db2333470",
   "metadata": {},
   "outputs": [
    {
     "data": {
      "image/png": "[encoded data removed]",
      "text/plain": [
       "<Figure size 432x288 with 1 Axes>"
      ]
     },
     "metadata": {
      "needs_background": "light"
     },
     "output_type": "display_data"
    }
   ],
   "source": [
    "from scipy.stats import cauchy\n",
    "import matplotlib.pyplot as plt\n",
    "import numpy as np\n",
    "fig, ax = plt.subplots(1, 1)\n",
    "\n",
    "#Calculate the first four moments:\n",
    "mean, var, skew, kurt = cauchy.stats(moments='mvsk')\n",
    "\n",
    "#Display the probability density function (pdf):\n",
    "x = np.linspace(cauchy.ppf(0.01),\n",
    "                cauchy.ppf(0.99), 100)\n",
    "ax.plot(x, cauchy.pdf(x),\n",
    "       'r-', lw=5, alpha=0.6, label='cauchy pdf')\n",
    "#Alternatively, the distribution object can be called (as a function) to fix the shape, location and scale parameters. This returns a “frozen” RV object holding the given parameters fixed.\n",
    "\n",
    "#Freeze the distribution and display the frozen pdf:\n",
    "rv = cauchy()\n",
    "ax.plot(x, rv.pdf(x), 'k-', lw=2, label='frozen pdf')\n",
    "\n",
    "#Check accuracy of cdf and ppf:\n",
    "vals = cauchy.ppf([0.001, 0.5, 0.999])\n",
    "np.allclose([0.001, 0.5, 0.999], cauchy.cdf(vals))\n",
    "#True\n",
    "\n",
    "#Generate random numbers:\n",
    "r = cauchy.rvs(size=1000)\n",
    "\n",
    "#And compare the histogram:\n",
    "ax.hist(r, density=True, histtype='stepfilled', alpha=0.2)\n",
    "ax.legend(loc='best', frameon=False)\n",
    "plt.show()"
   ]
  },
  {
   "cell_type": "markdown",
   "id": "0ca67f34-cc78-4ccd-8592-0cbb25fd75af",
   "metadata": {},
   "source": [
    "# **Convergencia de sucesione de funciones de variables aleatorias**\n",
    "Es importante hablar de convergencia de sucesiones dado que ayuda a tener perspectiva de que las variables aleatorias son funciones. De este modo al hablar de convergencia, no estoy hablando de convergencia de sucesiones de valores numéricos si no de funciones."
   ]
  },
  {
   "cell_type": "markdown",
   "id": "01be677b-5bc0-407e-a1fa-ef4dba1a71ee",
   "metadata": {},
   "source": [
    "## Generalidades\n",
    "\n",
    "- Se sabe, por ejemplo que $\\left\\{ \\frac{1}{n} \\right\\}_{n\\in \\mathbb{N}} = \\left\\{ 1, \\frac{1}{2}, \\frac{1}{3},\\cdots \\right\\}_{}$ converge a cero. Entonces que significa que $\\left\\{ f_1,f_2,\\cdots \\right\\}_{}$ converja a $f$?. La respuesta a esto se puede definir de muchas maneras, una de ellas es la siguiente.\n",
    "\n",
    "- **Definición:** Convergencia Puntual. Una secuencia $\\left\\{ f_n \\right\\}_{n}$ de funciones $f_n: D \\to \\mathbb{R}$ converge puntualmente a una función $f:D\\to\\mathbb{R}$ si\n",
    "\n",
    "$$\n",
    "\\forall x \\in D, \\lim\\limits_{n\\to\\infty}f_n(x) = f(x)\n",
    "$$\n",
    "\n",
    "- **Ejemplo:** Sea $D=[0,1)$ t $f: D \\to \\mathbb{R}$ donde $x \\mapsto x^n$ entonces $\\left\\{ f_n \\right\\}_{n}$ converge puntualmente a $f:[0,1) \\to \\mathbb{R}$ donde $x \\mapsto$ 0 .(***Sol 20211018 55:00***)\n",
    "\n",
    "- Ahora si se tiene una métrica en el espacio de funciones, $d(f,g)\\in [0,\\infty)$, es posible definir la convergencia en términos de $d(.,.)$.\n",
    "\n",
    "- **Definición** Convergencia Uniforme. Si $d(f,g) = \\operatorname{sup}\\limits_{x\\in X}|f(x)-g(x)|$, una secuencia $\\left\\{ f_n \\right\\}_{n}$ de funciones $f_n:D \\to \\mathbb{R}$ converge uniformemente a una funcipon $f:D\\to\\mathbb{R}$ si \n",
    "\n",
    "$$\n",
    "d(f_n,f) \\overset{n\\to\\infty}{\\to}0\n",
    "$$\n",
    "\n",
    "- **Ejemplo:** Sea $D=[0,1)$ y $f_n :[0,1) \\to \\mathbb{R}$ con $x \\mapsto x^n$ tenemos que $\\left\\{ f_n \\right\\}_{n}$ **no** converge uniformemente a $f:[0,1) \\to \\mathbb{R}$ donde $x \\mapsto 0$\n",
    "\n",
    "- Por último en el espacio de la funciones cuadrado integrables en $[a,b]$, es decir \n",
    "\n",
    "$$\n",
    "L^2[a,b]; f\\in L^2[a,b] \\ \\text{ si } \\ \\int_a^b f^2(x)dx < \\infty \n",
    "$$\n",
    "\n",
    "- **Definición** Convergencia en Error Cuadrático. Si $d(f,g)=\\int_a^b[f(x)-g(x)]dx$, una secuencia $\\left\\{ f_n \\right\\}_{n}$ de funciones $f_n:[a,b] \\to \\mathbb{R}$ converge en error cuadrático a una función $f:[a,b] \\to \\mathbb{R}$ si \n",
    "\n",
    "$$\n",
    "d(f_n,f) \\to_{n\\to\\infty} 0 \n",
    "$$"
   ]
  },
  {
   "cell_type": "markdown",
   "id": "420ad108-0168-447d-aabf-410f64cd0ef5",
   "metadata": {},
   "source": [
    "## Porque es importante definir varios tipos de convergencia\n",
    "\n",
    "En los resultados de análisis funcional tenemos que la convergencia unirfome implica la convergencia puntual. Además la convergencia uniforme preserva la continuidad, es decir yo podria decir que para una sucesion de funciones continuas su convergencia uniforme es continua tambien. No preserva la diferenciabilidad a menos que se cumplan ciertas condiciones. La comvergencia de error cuadrático esta basada en espacios de Hillbert.\n",
    "\n",
    "![notas de convergencia](https://cdn.mathpix.com/snip/images/ZXOPGWVvfJIs_p-d3Jo5Jngg2yzilzqEL91twesAn2A.original.fullsize.png)\n",
    "\n",
    "## Convergencia de variables aleatorias\n",
    "\n",
    "- Las variables aleatorias son funciones, por eso nos interesa este tema.\n",
    "\n",
    "- En probabilidad, introdujimos el espacio $L^2(\\Omega,\\mathscr{F},p)$ como el espacio de las variables aleatorias cuadrado integrables. En este espacio, se puede introducir una medida de distancia como la del error cuadrático, teniendo encuenta tambien la medida de probabilidad\n",
    "\n",
    "$$\n",
    "d(X,Y) := \\int_{\\Omega}[X-Y]^2 dp = E[(X-Y)^2]\n",
    "$$\n",
    "\n",
    "- Sin embargo, no nos va a ser útil la convergencia puntual y mucho menos la convergencia uniforme; como mostraremos en el siguiente ejemplo.\n",
    "\n",
    "- **Ejemplo:** Se lanza una moneda independientemente un número infinito de veces. Se definen las siguientes variables aleatorias:\n",
    "\n",
    "$$\n",
    "X_i = 1 , \\ \\text{ si sale cara en el i-ésimo lanzamiento } \\ \\ , \\ 0 \\ \\text{ si sale sello en el i-ésimo lanzamiento }\n",
    "$$\n",
    "\n",
    "con $i=1,2,\\cdots$\n",
    "\n",
    "Se defina tambien la media muestral de la siguiente manera\n",
    "\n",
    "$$\n",
    "\\overline{X}_n = \\frac{X_1, X_2, \\cdots, X_n}{n}\n",
    "$$\n",
    "\n",
    "Que sucede con dicha variable aleatoria cuando $n$ crece?\n",
    "\n",
    "\n",
    "![alt text](20211018_ConvergenciaDeVariablesAleatorias.PNG \"Ejemplo de convergencia de variables aleatorias\")"
   ]
  },
  {
   "cell_type": "markdown",
   "id": "92c01b38-41b4-4c74-919f-7e15b881064c",
   "metadata": {},
   "source": [
    "luego lo que nos lleva apreguntarnos que sucede cuando $n \\to \\infty$ y por la ley de los grandes numeros podemos ver que el valor se concentra en $\\frac{1}{2}$. Pero este resultado es el correcto? De cierta manera, la probabilida tiende a concentrarce alrrededor de $1/2$, pero no todos los valores  que toma la variable aleatoria tienden a $1/2$.\n",
    "\n",
    "No se tiene la convergencia puntual, y mucho menos, convergencia uniforme, entonces que tipos de convergencia serán de interés para variables aleatorias?."
   ]
  },
  {
   "cell_type": "markdown",
   "id": "243c3451-3e66-4ae9-8985-b82ccc2dfeeb",
   "metadata": {},
   "source": [
    "### **Convergencia casi segura (almost sure convergence)**\n",
    "\n",
    "- **Definición:** Convergencia casi segura. Sean $X_1,X_2,\\cdots$ variables aleatorias reales definidas en $(\\Omega,\\mathscr{F},p)$ un espacio de probabilidad. Se dice que $\\{ X_n \\}_{n}$ converge casi seguramente hacia $X$ si para todo $\\varepsilon > 0$ se tiene\n",
    "\n",
    "$$ p(\\lim\\limits_{n\\to\\infty} |X_n-X| > \\varepsilon ) = p(\\{  \\omega \\in \\Omega : \\lim\\limits_{n\\to\\infty}| X_n(\\omega) - X(\\omega)| > \\varepsilon |\\}_{}) = 0$$\n",
    "\n",
    "y se denota como $X_n \\overset{c.s}{ \\underset{n \\to \\infty}{\\longrightarrow}} X$\n",
    "\n",
    "- Claramente es un resultado más débil que la convergencia puntual. Sin embargo, puede ser interpretada como convergencia puntual con probabilidad 1, porque los valores para los cuales no converge tienen probabilidad 0"
   ]
  },
  {
   "cell_type": "markdown",
   "id": "b6776af7-13cc-47ed-9865-e040b621d180",
   "metadata": {},
   "source": [
    "<a id='ConvergenciaProbabilidad'></a>\n",
    "### **Convergencia en probabilidad**\n",
    "Sean $X,X_{1},X_{2},\\cdots$ variables aleatorias reales definidas en $(\\Omega,\\mathscr{F},p)$. Se dice que $\\{ X_{n} \\}_n$ converge en probabilidad hacia $X_{}$ si $\\forall \\varepsilon > 0$ :\n",
    "\n",
    "$$\n",
    "\\lim_{n\\to\\infty} p(|X_{n} - X| > \\varepsilon )=0 \n",
    "$$\n",
    "\n",
    "y se denota como $X_{n} \\overset{p}{\\underset{n \\to \\infty}{\\longrightarrow}} X$\n",
    "\n",
    "- Parece ser muy similar a la convergencia casi segura. Sin embargo, ésta implica únicamente que la probabilidad de que estén alejadas por mucho se hace cada vez más pequeña, mientras que la convergencia casi segura se garantiza que la probabilidad de que haya distancia no nula en el límite es nula."
   ]
  },
  {
   "cell_type": "markdown",
   "id": "8ad9e691-6cb8-4e7d-b167-3d68ec045eb7",
   "metadata": {},
   "source": [
    "<a id='ConvergenciaMedia'></a>\n",
    "### **Convergencia en media de orden $r$**\n",
    "\n",
    "Sean $X,X_{1},X_{2},\\cdots$ variables aleatorias reales definidas en $L^r(\\Omega,\\mathscr{F},p)$. Se dice que $\\{ X_{n} \\}_n$ converge en media $r$-ésima ($r\\geq 1$) hacia $X_{}$ si : \n",
    "\n",
    "$$\n",
    "\\lim_{n\\to\\infty} E[|X_{n}-X|^r]=0\n",
    "$$\n",
    "\n",
    "y se denota como $X_{n} \\overset{L_r}{\\underset{n\\to\\infty}{\\longrightarrow}} X$.\n",
    "\n",
    "- Solo funciona en el espacio de variables cuandrado integrables en $r=2$ (convergencia en media cuadrática). Como ya se mecionó antes, es un tipo diferente de convergencia."
   ]
  },
  {
   "cell_type": "markdown",
   "id": "82f3d537-5c88-420d-8518-31fbd7f05844",
   "metadata": {},
   "source": [
    "### **Convergencia en distribución**\n",
    "\n",
    "Sean $X,X_1,X_2,\\cdots$ variables aleatorias con funciones de distribución $F,F_1,F_2,\\cdots$ Se dice que $\\{ X_n \\}_n$ converge en distribución hacia $X$ si:\n",
    "\n",
    "$$\n",
    "\\lim_{n\\to\\infty} F_n(x) =F(x)\n",
    "$$\n",
    "\n",
    "para todo punto de continuidad de, $x$, de $F$. Se denota como $X_n \\overset{d}{\\underset{n\\to\\infty}{\\longrightarrow}} X$ \n",
    "\n",
    "- Es la más débil de las convergencias. No requiere que las variables estén definidas sobre el mismo espacio de porbabilidad. Es el más usado en la práctica.\n",
    "\n",
    "- En realidad no dice nada sobre los valores que toma en sí la variable en el límite. Solo dice qué distribución de probabilidad se adapta a esos valores."
   ]
  },
  {
   "cell_type": "markdown",
   "id": "283fc0c9-3c76-4d27-adab-758e5e122405",
   "metadata": {},
   "source": [
    "<a id='TeoremaPropiedadesConvergenciaDistribucion'></a>\n",
    "#### **Teorema: Propiedades de la convergencia en distribución**\n",
    "\n",
    "Sea $X, X_{1}, X_{2}, \\cdots$ una colección de variables aleatorias. \n",
    "\n",
    "1) Teorema de continuidad de Lévy:\n",
    "\n",
    "$$\n",
    "X_n \\overset{d}{\\underset{n\\to\\infty}{\\longrightarrow}} X \\iff \\lim_{n\\to\\infty} \\phi_{X_n}(t) = \\phi_X(t) \\ \\ , \\ \\forall t \\in \\mathbb{R}\n",
    "$$\n",
    "\n",
    "2) Si la función generadora de momentos existe para todas las variables,\n",
    "\n",
    "$$\n",
    "X_n \\overset{d}{\\underset{n\\to\\infty}{\\longrightarrow}} X \\iff \\lim_{n\\to\\infty} m_{X_n}(t) = m_X(t) \\ \\ , \\ \\text{ en el radio de convergencia}\n",
    "$$\n",
    "\n",
    "3) Si todas las varibles son de naturaleza discreta,\n",
    "\n",
    "$$\n",
    "X_n \\overset{d}{\\underset{n\\to\\infty}{\\longrightarrow}} X \\iff \\lim_{n\\to\\infty} p_{X_n}(t) = p_X(t) \\ \\ , \\ \\forall t \\in \\mathbb{R}\n",
    "$$\n",
    "\n",
    "- Note que no hay un resultado para funciones de densidad."
   ]
  },
  {
   "cell_type": "markdown",
   "id": "3d0ce958-df1e-488d-8624-8606e5dccbdb",
   "metadata": {},
   "source": [
    "<a id='TeoremaRelacionesEntreConvergencias'></a>\n",
    "\n",
    "![](https://cdn.mathpix.com/snip/images/_iFB0a8TA481RS_WBqft8rYr8DuX0TjeRir8gk27Z0Q.original.fullsize.png)\n",
    "\n",
    "- Notemos que para el caso que tenemos una convergencia a una constante $x$ el teorema de Lévy queda \n",
    "\n",
    "$$\n",
    "X_n \\overset{p}{\\underset{n\\to\\infty}{\\longrightarrow}} c \\ \\iff \\ X_n \\overset{d}{\\underset{n\\to\\infty}{\\longrightarrow}} c\n",
    "$$"
   ]
  },
  {
   "cell_type": "markdown",
   "id": "b80ec308-c8ac-4c3b-8ed5-e2d1446128df",
   "metadata": {},
   "source": [
    "<a id='PropiedadesConvergencia'></a>\n",
    "### **Teorema: Propiedades de la convergencia**\n",
    "\n",
    "Sea $X,X_1,X_2, \\cdots$ ; $Y,Y_1,Y_2,\\cdots$ una colección de variables aleatorias, y $f$ una función continua.\n",
    "\n",
    "1) Si $X_n \\overset{c.s.}{\\underset{n\\to\\infty}{\\longrightarrow}} X$ entonces $f(X_n) \\overset{c.s.}{\\underset{n\\to\\infty}{\\longrightarrow}} f(X)$\n",
    "\n",
    "\n",
    "2) Si $X_n \\overset{p}{\\underset{n\\to\\infty}{\\longrightarrow}} X$ entonces $f(X_n) \\overset{p}{\\underset{n\\to\\infty}{\\longrightarrow}} f(X)$\n",
    "\n",
    "\n",
    "3) Si $X_n \\overset{d}{\\underset{n\\to\\infty}{\\longrightarrow}} X$ entonces $f(X_n) \\overset{d}{\\underset{n\\to\\infty}{\\longrightarrow}} f(X)$\n",
    "\n",
    "\n",
    "4) Si $X_n \\overset{c.s.}{\\underset{n\\to\\infty}{\\longrightarrow}} X$ y $Y_n \\overset{c.s.}{\\underset{n\\to\\infty}{\\longrightarrow}} Y$ entonces\n",
    "    - $X_n+Y_n \\overset{c.s.}{\\underset{n\\to\\infty}{\\longrightarrow}} X+Y$\n",
    "    - $X_nY_n \\overset{c.s.}{\\underset{n\\to\\infty}{\\longrightarrow}} XY$\n",
    "\n",
    "\n",
    "5) Si $X_n \\overset{p}{\\underset{n\\to\\infty}{\\longrightarrow}} X$ y $Y_n \\overset{p}{\\underset{n\\to\\infty}{\\longrightarrow}} Y$ entonces\n",
    "    - $X_n+Y_n \\overset{p}{\\underset{n\\to\\infty}{\\longrightarrow}} X+Y$\n",
    "    - $X_nY_n \\overset{p}{\\underset{n\\to\\infty}{\\longrightarrow}} XY$"
   ]
  },
  {
   "cell_type": "markdown",
   "id": "974be204-c799-45e2-b3bc-f87551ca879a",
   "metadata": {},
   "source": [
    "#### Ejemplo 1\n",
    "Sea $\\{ X_n \\}_{n\\geq3}$ una colección de variables aleatorias tal que \n",
    "\n",
    "$$\n",
    "P(X_n=0)=1-\\frac{1}{\\ln n} \\ \\ , \\ \\ P(X_n=n)=\\frac{1}{\\ln n} \\ \\ , \\ \\ \\text{ para todo } n \\geq 3\n",
    "$$\n",
    "\n",
    "1) Muestre que $X_n \\overset{p}{\\underset{n\\to\\infty}{\\longrightarrow}} 0$\n",
    "\n",
    "Teniendo en cuenta la definición de [Convergencia en probabilidad](#ConvergenciaProbabilidad) tenemos\n",
    "\n",
    "$$\n",
    "\\begin{align*}\n",
    "P( |X_n-X| > \\varepsilon ) & = P( | X_n - 0 | > \\varepsilon ) \\\\\n",
    "& = P( | X_n | > \\varepsilon ) \\\\\n",
    "& = P( X_n > \\varepsilon ) \\\\\n",
    "\\end{align*}\n",
    "$$\n",
    "\n",
    "Ahora tengamos en cuenta que \n",
    "\n",
    "$$\n",
    "\\begin{cases}\n",
    "P( X_n > \\varepsilon ) = P(X_n = n) = \\frac{1}{\\ln n} & 0 < \\varepsilon < n \\\\\n",
    "0 & n < \\varepsilon \\\\\n",
    "\\end{cases}\n",
    "$$\n",
    "\n",
    "De este modo \n",
    "\n",
    "$$\n",
    "\\lim_{n\\to\\infty} P(X_n > \\varepsilon) = 0\n",
    "$$\n",
    "\n",
    "ya que $\\frac{1}{\\ln n} \\underset{n\\to\\infty}{\\longrightarrow} 0$ y $0 \\underset{n\\to\\infty}{\\longrightarrow} 0$\n",
    "\n",
    "> Si vemos cuando n=3, n=4 la probabilidad estaba bastante concentrada en X_3=3 y X_4=4. Pero a medida que $n \\to \\infty$ vemos que la probabilidad empieza a estar muy cercana a cero. De este modo podemos entender que una variable aleatoria converge en probabilidad a otra variable aleatoria, en  este caso cero.\n",
    "\n",
    "2) ¿A que converge $\\{X_n^2 \\}_{n \\geq 2}$ , $ \\{ e^{ x_n } \\}_n $ y $\\frac{1}{X_n}$ ? \n",
    "\n",
    "Como tenemos que $X_n \\overset{p}{\\underset{n\\to\\infty}{\\longrightarrow}} X$ y además que $f(x)=x^2$ y $g(x)=e^x$ son funciones continuas en todo $\\mathbb{R}$, por las [propiedades de convergencia](#PropiedadesConvergencia) tenemos que $f(X_n) \\overset{p}{\\underset{n\\to\\infty}{\\longrightarrow}} f(X)$ es decir $X_n^2 \\overset{p}{\\underset{n\\to\\infty}{\\longrightarrow}} 0^2$ y $e^{X_m} \\overset{p}{\\underset{n\\to\\infty}{\\longrightarrow}} e^0=1$. Pero como $h(x) = \\frac{1}{x}$ no tenemos el teorema y nisiquiera podemos definirla dado que no tenemos valores soporte cuando el denominador es cero.\n",
    "\n",
    "3) Demuestre que **no se tiene** que $X_m \\overset{L_r}{\\underset{n\\to\\infty}{\\longrightarrow}} 0$\n",
    "\n",
    "Recordemos que\n",
    "\n",
    "$$\n",
    "P_{X_n}(x_n) =\n",
    "\\begin{cases}\n",
    "1-\\frac{1}{\\ln n} & X_n=0 \\\\\n",
    "\\frac{1}{\\ln n} & X_n=n \\\\\n",
    "\\end{cases}\n",
    "$$\n",
    "\n",
    "Ademas tenemos que el soporte de la variable aleatoria es $D_{X_n}=\\{ 0,n \\}$ donde al ser finito tenemos que el valor esperado y todos los momentos existen.\n",
    "\n",
    "Luego tenemos dada la definicion de [convergencia en media r-ésima](#ConvergenciaMedia)\n",
    "\n",
    "$$\n",
    "\\begin{align*}\n",
    "\\lim_{n\\to\\infty} E[| X_n - X |^r] & = \\lim_{n\\to\\infty} E[| X_n |^r] \\\\\n",
    "& = \\lim_{n\\to\\infty} E[( X_n )^r] \\\\\n",
    "& = \\lim_{n\\to\\infty} \\sum_{x \\in D_{X_n}} X_n^rP(X_n=x) \\\\\n",
    "& = \\lim_{n\\to\\infty} 0^r(1-\\frac{1}{\\ln n}) + n^r\\frac{1}{\\ln n} \\\\\n",
    "& = \\lim_{n\\to\\infty} \\frac{n^r}{\\ln n} = \\infty \\\\\n",
    "\\end{align*}\n",
    "$$\n",
    "\n",
    "Tengamos en cuenta que dado el [Teorema de relaciones entre convergencias](#TeoremaRelacionesEntreConvergencias) podriamos tambien decir que no se tiene que $X_n \\overset{L_r}{\\underset{n\\to\\infty}{\\longrightarrow}} X$ para alguna $X$ variable aleatoria. Dado que $X_n \\overset{p}{\\underset{n\\to\\infty}{\\longrightarrow}} 0$ pero no tenemos que $X_n \\overset{L_r}{\\underset{n\\to\\infty}{\\longrightarrow}} 0$.\n",
    "\n",
    "\n",
    "\n",
    "\n",
    "\n"
   ]
  },
  {
   "cell_type": "markdown",
   "id": "43244f6b-9e1d-416d-bfb1-a14c7dcc7ad3",
   "metadata": {},
   "source": [
    "#### Ejemplo 2 \n",
    "Sea $\\{ X_n \\}_{n \\in \\mathbb{Z}^{+}}$ una colección de variables aleatorias tal que:\n",
    "\n",
    "$$\n",
    "X_n \\sim \\chi^2(n) \\ \\ \\ \\ \\forall n\n",
    "$$\n",
    "\n",
    "1. Muestre que $\\frac{X_{n}}{n} \\overset{p}{\\underset{n\\to\\infty}{\\longrightarrow}} 1$\n",
    "\n",
    "Por definición nos estan diciendo que tenemos que ver que \n",
    "\n",
    "$$\n",
    "\\lim_{n\\to\\infty} p(|\\frac{X_n}{n}-1|>\\varepsilon) = 0\n",
    "$$\n",
    "\n",
    "El problema con este enfoque es que calcular $p(|\\frac{X_n}{n}| > \\varepsilon)$ no es una tarea eficiente, dado que al tratar de expresar la probabilidad como una integral nos encontramos con que la función de distribución de una variable aleatoria [Chi cuadrado](#DistribucionChiCuadrado) no tienen una expresión análitica (esto es una alerta en este tipos de ejercicios). \n",
    "\n",
    "Pero si nos fijamos en el [Teorema de las relaciones entre convergencias](#TeoremaRelacionesEntreConvergencias) vemos que \n",
    "\n",
    "$$\n",
    "\\frac{X_n}{n} \\overset{p}{\\underset{n\\to\\infty}{\\longrightarrow}} 1 \\ \\iff \\ \\frac{X_n}{n} \\overset{d}{\\underset{n\\to\\infty}{\\longrightarrow}} 1\n",
    "$$\n",
    "\n",
    "Ahora teniendo en cuenta el [Teorema de Lévy](#TeoremaPropiedadesConvergenciaDistribucion) para \n",
    "\n",
    "$$\n",
    "\\frac{X_n}{n} \\overset{d}{\\underset{n\\to\\infty}{\\longrightarrow}} 1\n",
    "$$\n",
    "\n",
    "bastaría ver que \n",
    "\n",
    "$$\n",
    "m_{\\frac{X_n}{n}}(t) \\overset{d}{\\underset{n \\to \\infty}{\\longrightarrow}} m_1(t)\n",
    "$$\n",
    "\n",
    "es decir se da una convergencia puntual de la siguiente manera\n",
    "\n",
    "$$\n",
    "\\lim_{n\\to\\infty} m_{\\frac{X_n}{n}}(t) = m_1(t)= e^t\n",
    "$$\n",
    "\n",
    "Tenemos que encontrar primero $m_{\\frac{X_n}{n}}(t)$. Sea $Y_n=\\frac{X_n}{n}$ vemos que para $t \\in (-\\alpha,\\alpha)$ con $\\alpha \\in \\mathbb{R}$ donde existe\n",
    "\n",
    "$$\n",
    "m_{Y_n}(t) = E[e^{tY_n}] = E[e^{t\\frac{X_n}{n}}]\n",
    "$$\n",
    "\n",
    "Así\n",
    "\n",
    "$$\n",
    "E[e^{t\\frac{X_n}{n}}] = E[e^{\\frac{t}{n}X_n}] = \\left(1-2\\left(\\frac{t}{n}\\right)\\right)^{\\frac{-n}{2}}\n",
    "$$\n",
    "\n",
    "con $\\frac{t}{n} < \\frac{1}{2}$ que es lo mismo que $t < \\frac{n}{2}$. Esto dado que $X_n$ tiene distribución [Chi cuadrado](#DistribucionChiCuadrado) y se sustituyo $\\hat{t} = \\frac{t}{n}$\n",
    "\n",
    "Ahora, teniendo en cuenta que $\\frac{n}{2} \\to \\infty$ cuando $n \\to \\infty$ y por ende $t<\\infty \\iff t\\in\\mathbb{R}$ vemos que \n",
    "\n",
    "$$\n",
    "\\begin{align}\n",
    "\\lim_{n\\to\\infty} m_{\\frac{X_n}{n}}(t) \n",
    "& = \\lim_{n\\to\\infty} \\left(1-2\\left(\\frac{t}{n}\\right)\\right)^{\\frac{-n}{2}} \\\\\n",
    "& = \\lim_{n\\to\\infty} \\left( \\frac{1}{1-2\\left(\\frac{t}{n}\\right)} \\right)^{\\frac{n}{2}} \\\\\n",
    "\\end{align}\n",
    "$$\n",
    "\n",
    "Supongamos que éste límite existe y es $L$ luego \n",
    "\n",
    "$$\n",
    "\\begin{align}\n",
    "\\lim_{n\\to\\infty} \\left( \\frac{1}{1-2\\left(\\frac{t}{n}\\right)} \\right)^{\\frac{n}{2}} & = L \\\\\n",
    "\\lim_{n\\to\\infty} \\ln{ \\left( \\frac{1}{1-2\\left(\\frac{t}{n}\\right)} \\right)^{\\frac{n}{2}}} & = \\ln{L} \\\\\n",
    "\\lim_{n\\to\\infty} \\frac{-n}{2}\\ln{ \\left(1-2\\left(\\frac{t}{n}\\right) \\right) } & = \\ln{L} \\\\\n",
    "\\end{align}\n",
    "$$\n",
    "\n",
    "hacemos ahor una sustitución, sea $u=\\frac{1}{n}$ entonces\n",
    "\n",
    "$$\n",
    "\\begin{align}\n",
    "\\lim_{u \\to 0^{+}} \\frac{-1}{2u} \\ln{(1-2tu)} & = \\ln{L} \\\\\n",
    "\\frac{-1}{2} \\lim_{u \\to 0^{+}} \\frac{\\ln{(1-2tu)}}{u} & = \\ln{L} \\\\\n",
    "\\frac{-1}{2} \\lim_{u \\to 0^{+}} \\frac{\\frac{-2t}{1-2tu}}{1} & \\overset{\\text{L'Hôpital's}}{=} \\ln{L} \\\\\n",
    "\\frac{-1}{2} \\lim_{u \\to 0^{+}} \\frac{-2t}{1-2tu} & = \\ln{L} \\\\\n",
    "\\frac{-1}{2} \\lim_{u \\to 0^{+}} -2t & = \\ln{L} \\\\\n",
    "t & = \\ln{L} \\\\\n",
    "e^{t} & = L \\\\\n",
    "\\end{align}\n",
    "$$\n",
    "\n",
    "lo cual es una la función $m_1(t)$ generadora de momentos de una variable aleatoria constante en $1$. Luego podemos concluir que $m_{\\frac{X_n}{n}}(t) \\overset{d}{\\underset{n \\to \\infty}{\\longrightarrow}} m_1(t)$, que es equivalente a $\\frac{X_n}{n} \\overset{d}{\\underset{n\\to\\infty}{\\longrightarrow}} 1$ que es equivalente a $\\frac{X_n}{n} \\overset{p}{\\underset{n\\to\\infty}{\\longrightarrow}} 1$, lo que pretendiamos.\n",
    "\n",
    "2) A que converge en probabilidad $\\sqrt{\\frac{X_n}{n}}$\n",
    "\n",
    "Como tenemos que la función $f(x)=\\sqrt{x}$ es continua en el soporte de $\\frac{X_n}{n}$ la cual vemos que es $\\mathbb{Z}^+$. pordemos aplicar la segunda propiedad del [Teorema propiedades de convergencia](#PropiedadesConvergencia) esto es; si $\\frac{X_n}{n} \\overset{p}{\\underset{n\\to\\infty}{\\longrightarrow}} 1$ entonces $f(\\frac{X_n}{n}) \\overset{p}{\\underset{n\\to\\infty}{\\longrightarrow}} f(1)$. Lo que nos deja que $\\sqrt{\\frac{X_n}{n}} \\overset{p}{\\underset{n\\to\\infty}{\\longrightarrow}} \\sqrt{1} = 1$\n",
    "\n",
    "> Gráficamente podemos ver que, para las variables aleatorias $Y_n=\\frac{X_n}{n}$ que la probabilidad converge en 1 es\n",
    "\n",
    "![](https://cdn.mathpix.com/snip/images/ZBW4LH0TZz0OoblWxFdhZPimU71dV4Qi9vMiNlHGiEk.original.fullsize.png)"
   ]
  },
  {
   "cell_type": "markdown",
   "id": "bc3257cb-b7c4-4bb0-ac3f-56a4b7ef7433",
   "metadata": {},
   "source": [
    "<a id='TeoremaSlutsky'></a>\n",
    "### **Teorema de Slutsky**\n",
    "Sea $X,X_1,X_2,\\cdots$ ; $Y,Y_1,Y_2,\\cdots$ una colección de variables aleatorias tal que\n",
    "$X_n \\overset{d}{\\underset{n\\to\\infty}{\\longrightarrow}} X$ y\n",
    "$Y_n \\overset{p}{\\underset{n\\to\\infty}{\\longrightarrow}} c$ \n",
    "(podriamos decir que $Y_n \\overset{d}{\\underset{n\\to\\infty}{\\longrightarrow}} c$ por lo visto en el [Teorema de las relaciones entre convergencias](#TeoremaRelacionesEntreConvergencias) ),\n",
    "donde $c$ es una constante.\n",
    "\n",
    "1) $X_n + Y_n \\overset{d}{\\underset{n\\to\\infty}{\\longrightarrow}} X+c$ \n",
    "\n",
    "2) $X_nY_n \\overset{d}{\\underset{n\\to\\infty}{\\longrightarrow}} cX$\n",
    "\n",
    "3) Si $c \\neq 0$ entonces $\\frac{X_n}{Y_n} \\overset{d}{\\underset{n\\to\\infty}{\\longrightarrow}} \\frac{X}{c}$"
   ]
  },
  {
   "cell_type": "markdown",
   "id": "89ea786f-9d65-4fe9-a6f0-44d67b86e707",
   "metadata": {},
   "source": [
    "### Ejemplo 3\n",
    "Sea $\\{ T_n \\}_{n \\in \\mathbb{Z}^+}$ una sucesión de variables aleatorias tales que $T_k \\sim t(k)$ ([distribución t de Students con k grados de libertad](#DistribucionT)), entonces \n",
    "$T_n \\overset{d}{\\underset{n\\to\\infty}{\\longrightarrow}} Z \\sim N(0,1)$\n",
    "\n",
    "Recordemos la definición usual de una variable aletoria que tiene distribución t de Student es la que se muestra como teorema en las [Características de la Distribución t de Students](#CaracteristicasDistribucionT)\n",
    "luego tenemos que si $T_n \\sim t(n)$ entonces\n",
    "\n",
    "$$\n",
    "\\frac{Z}{\\sqrt{\\frac{Y_n}{n}}} \\sim t(n)\n",
    "$$\n",
    "\n",
    "donde $Z \\sim N(0,1)$ y $Y_n \\sim \\chi^2(n)$ son independientes.\n",
    "\n",
    "Ya vimos en el [Ejemplo 2](#Eje.2.Convergencia) que para $Y_n \\sim \\chi^2(n)$ , \n",
    "$\\sqrt{\\frac{Y_n}{n}} \\overset{d}{\\underset{n \\to \\infty}{\\longrightarrow}} 1$.\n",
    "Luego como $Z \\sim N(0,1)$ no depende de $n$ tenemos que \n",
    "$Z \\overset{d}{\\underset{n\\to\\infty}{\\longrightarrow}}Z$\n",
    "por lo tanto según el [Teorema de Slutsky](#TeoremaSlutsky) tenemos que \n",
    "\n",
    "$$\n",
    "\\frac{Z}{\\sqrt{\\frac{Y_n}{n}}} \\overset{d}{\\underset{n\\to\\infty}{\\longrightarrow}} \\frac{Z}{1} = Z\n",
    "$$\n",
    "\n",
    "teniendo en cuenta que $\\sqrt{\\frac{Y_n}{n}}$ no tiene dentro de su soporte al $0$\n",
    "\n"
   ]
  },
  {
   "cell_type": "markdown",
   "id": "180e6a96-360d-493b-96a4-fabc3812f536",
   "metadata": {},
   "source": [
    "<a id='MetodoDelta'></a>\n",
    "### **Método Delta**\n",
    "Sea $X_1,X_2, \\cdots$ una sucesión de variables aleatorias, $\\mu \\in \\mathbb{R}$ (*el valor esperado existe*) y $g$ un función real derivable alrededor de $\\mu$ y con $g'(\\mu) \\neq 0$.\n",
    "\n",
    "Si $\\sqrt{n}({X_n-\\mu}) \\overset{d}{\\underset{n \\to \\infty}{\\longrightarrow}} N(0, \\sigma^2)$, entonces\n",
    "\n",
    "$\\sqrt{n} (g(X_n)-g(\\mu)) \\overset{d}{\\underset{n \\to \\infty}{\\longrightarrow}} N(0, [g'(\\mu)]^2\\sigma^2)$."
   ]
  },
  {
   "cell_type": "markdown",
   "id": "cadfd675-a838-4b3b-8c07-ffc140716db2",
   "metadata": {},
   "source": [
    "<a id='DesigualdadMarkov'></a>\n",
    "### **Teorema Desigualdad de Markov**\n",
    "Sea una variable aleatoria $X \\geq 0$ c.s. (c.s. siginfica que $P(X \\geq 0)=1$) con $\\mu_x$ finito. Entonces $\\forall a > 0$\n",
    "\n",
    "$$\n",
    "p(X \\geq a) \\leq \\frac{\\mu_X}{a}\n",
    "$$\n",
    "\n",
    "***(Dem 20211020 1:36:00 )***"
   ]
  },
  {
   "cell_type": "markdown",
   "id": "4b4177ee-c26f-47c3-9533-ee0f8863d3b7",
   "metadata": {},
   "source": [
    "<a id='TeoremaDesigualdadChebychev'></a>\n",
    "### **Teorema Desigualdad de Chebychev**\n",
    "Sea una variable aleatoria $X$ con $\\mu_X$ finito y $\\sigma^2_X$ finito y sea $k>0$ entonces:\n",
    "\n",
    "$$\n",
    "p(|X-\\mu_X| \\leq k\\sigma_X) \\geq 1-\\frac{1}{k^2}\n",
    "$$\n",
    "\n",
    "***(Dem 20211020 1:43:00)***\n",
    "\n",
    "Lo que nos dice la desigualdad de Chebychev es que, para cualquier distribución, la probabilidad de que la variable aleatoria $X$ esté a $k\\sigma_X$, es decir a k desviaciones estandar de la media; es acotada inferiormente por $1-\\frac{1}{k^2}$\n",
    "\n",
    "Luego para $k=1,2,3$ tenemos que para cualquier distribución\n",
    "\n",
    "$$\n",
    "\\begin{array}{rll}\n",
    "k=1 & p(X \\in (\\mu_X-\\sigma_X , \\mu_X+\\sigma_X)) & \\geq 0 \\\\\n",
    "k=2 & p(X \\in (\\mu_X-2\\sigma_X , \\mu_X+2\\sigma_X)) & \\geq \\frac{3}{4} = 75\\% \\\\\n",
    "k=3 & p(X \\in (\\mu_X-3\\sigma_X , \\mu_X+3\\sigma_X)) & \\geq \\frac{8}{9} = 88.\\overline{8}\\% \\\\\n",
    "k=4 & p(X \\in (\\mu_X-4\\sigma_X , \\mu_X+4\\sigma_X)) & \\geq \\frac{15}{16} = 93.75\\% \\\\\n",
    "\\end{array}\n",
    "$$\n",
    "\n",
    "La desigualdad de Chebychev tambien podemos verla de la siguiente manera. Sea $\\varepsilon > 0$\n",
    "\n",
    "$$\n",
    "p(|X-\\mu_X| \\leq \\varepsilon) \\geq 1 - \\frac{\\sigma^2}{\\varepsilon^2}\n",
    "$$\n",
    "\n",
    "lo que nos quiere decir esta probabilidad es que se esta expresando la probabilidad dada una distancia cualquiera $\\epsilon$ y no como en la anterior que era en factores de la desviaciones estándar."
   ]
  },
  {
   "cell_type": "code",
   "execution_count": null,
   "id": "7023407b-2b6c-453c-91ff-2dcdb6c1ba01",
   "metadata": {},
   "outputs": [],
   "source": []
  }
 ],
 "metadata": {
  "kernelspec": {
   "display_name": "Python 3 (ipykernel)",
   "language": "python",
   "name": "python3"
  },
  "language_info": {
   "codemirror_mode": {
    "name": "ipython",
    "version": 3
   },
   "file_extension": ".py",
   "mimetype": "text/x-python",
   "name": "python",
   "nbconvert_exporter": "python",
   "pygments_lexer": "ipython3",
   "version": "3.9.12"
  }
 },
 "nbformat": 4,
 "nbformat_minor": 5
}
