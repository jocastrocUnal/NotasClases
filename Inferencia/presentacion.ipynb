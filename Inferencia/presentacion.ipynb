{
 "cells": [
  {
   "cell_type": "markdown",
   "id": "1984c917-8b8f-4b99-862f-6d3e29e70392",
   "metadata": {},
   "source": [
    "La curva que conocemos con la densidad de Cacuchy tiene sus inicios desde las curvas proporcionales a la función\n",
    "\n",
    "$$\n",
    "\\begin{split}\n",
    "    y & = \\frac{1}{a^2+x^2},  \\quad a \\in \\mathbb{R}-\\{0\\}\n",
    "\\end{split}\n",
    "$$\n",
    "\n",
    "donde $a \\in \\mathbb{R}-\\{0\\}$.\n",
    "\n",
    "![](https://cdn.mathpix.com/snip/images/tUS11kVBy55NF-_4RwcP6D-QFEQiwAgTUbHVdRTWT9E.original.fullsize.png)"
   ]
  },
  {
   "cell_type": "markdown",
   "id": "62b401d3-6c58-40e0-8b8d-cc0b0ea861dc",
   "metadata": {},
   "source": [
    "Desde el curso de cálculo integral podriamos verificar que tiene una antiderivada que se puede expresar de forma analítica de la siguiente forma \n",
    "\n",
    "$$\n",
    "\\begin{split}\n",
    "    \\int \\dfrac{1}{a^2+x^2} dx \n",
    "    & = \\dfrac{\\arctan\\left(\\frac{x}{a}\\right)}{a} \\\\\n",
    "\\end{split}\n",
    "$$\n",
    "\n",
    "donde posteriormente podríamos verificar que el área bajo es curva es \n",
    "\n",
    "$$\n",
    "\\begin{split}\n",
    "    \\int_{-\\infty}^{\\infty} \\dfrac{1}{a^2+x^2} dx \n",
    "    & = \\dfrac{\\arctan\\left(\\frac{x}{a}\\right)}{a} \\Big|_{-\\infty}^{\\infty} \\\\\n",
    "    & = \\dfrac{\\pi}{a}\n",
    "\\end{split}\n",
    "$$\n",
    "\n",
    "![](https://cdn.mathpix.com/snip/images/w3Gs9FXspKO8SIpww3NZUOB4nKfuXtjmjoA8eLvkDkM.original.fullsize.png)"
   ]
  },
  {
   "cell_type": "markdown",
   "id": "c85e34d1-ad55-4782-b52a-9bb1621228cd",
   "metadata": {},
   "source": [
    "Desde Fermat en el siglo 17 muchos y muchas an estudiado ésta curva y sus diferentes propiedades, entre ellos Newton, Leibniz, Huygens, Guido Grandi, y Maria Agnes [1](#ref1). En el siglo diecinueve adquirió el nombre peculiar de \"la bruja de Agnesi\". Esta curva viene dada de la siguiente manera\n",
    "\n",
    "$$\n",
    "\\begin{split}\n",
    "    y & =\\frac {8a^{3}}{x^{2}+4a^{2}}, \\quad a>0\n",
    "\\end{split}\n",
    "$$\n",
    "\n",
    "para alguna constante $a>0$. La siguiente construcción muestra la curva que queremos caracterizar\n",
    "\n",
    "![](https://upload.wikimedia.org/wikipedia/commons/1/10/Agnesi.gif)"
   ]
  },
  {
   "cell_type": "markdown",
   "id": "1c3b276d-901d-43c7-9721-7880fefaa30b",
   "metadata": {},
   "source": [
    "El desafortunado nombre de este modelo viene de una mala lectura durante la traducción por parte de [John Colson](https://en.wikipedia.org/wiki/John_Colson) en 1801, un profesor [Lucasiano](https://en.wikipedia.org/wiki/Lucasian_Professor_of_Mathematics) de Matemáticas de la universidad de Cambridge que escribió.\n",
    "\n",
    "![](https://cdn.mathpix.com/snip/images/q1O35RLktWL8yXNFGUfFJ4sI63pr7SF4V2a37Xy6uGA.original.fullsize.png)\n",
    "\n",
    "en vez de escribir\n",
    "\n",
    "![](https://cdn.mathpix.com/snip/images/cxwYK6t3Gg1KIw-7-T5CrW68L8y2VwB2bNatQyxzkOE.original.fullsize.png)"
   ]
  },
  {
   "cell_type": "markdown",
   "id": "14158e9e-0dea-4612-bf8e-4e0d941c79cb",
   "metadata": {},
   "source": [
    "Desde ese entonces la curva a sido conocida en inglés como \"Witch of Agnesi\". Lo desafortunado del caso es que [Maria Agnes](https://en.wikipedia.org/wiki/Maria_Gaetana_Agnesi) la cual paso muchos de sus dias como monja en Milan, puede que no aprobara dicho nombre.\n",
    "\n",
    "\n",
    "\n",
    "Dejando esto a un lado si parece ser un nombre apropiado cuando tomamos el enfoque desde la teoría de la decisión. Donde despues de 250 años la curva se nos presenta con un problema el cual sigue sin respuesta."
   ]
  },
  {
   "cell_type": "markdown",
   "id": "b16e87fb-e3d4-4614-9a1d-800ae89c2741",
   "metadata": {},
   "source": [
    "Consideremos lo siguiente:\n",
    "\n",
    "En el punto $(1,1)$ se dibuja una linea recta al eje $y=0$ con un ángulo $\\theta$ y seleccionando un $\\theta \\in (\\frac{-\\pi}{2},\\frac{\\pi}{2})$. Sea $x$ el punto donde la recta intersecta el eje $y=0$. Si $x>0$ usted gana $x$ dolares y si $x<0$ usted tiene que pagar $x$ dolares. \n",
    "\n",
    "![](https://cdn.mathpix.com/snip/images/WHhk2cidswZ2rNz30oTbXlpy1BqmsmmbihA3G7FUHEo.original.fullsize.png)\n",
    "\n",
    "¿Cuánto debería estar dispuesto a pagar para participar en esta apuesta? es decir cual es el $x^*$ que usted espera poder llegar pagar para participar en esta apuesta."
   ]
  },
  {
   "cell_type": "markdown",
   "id": "41c579cf-22a2-42af-812e-7c04485c7ef4",
   "metadata": {},
   "source": [
    "Para saber ese precio $x^*$ que deberíamos poner podríamos pensar en la distribución de la probabilidad inducida sobre la recta $\\mathbb{R}$ de la representación anterior, donde haciendo uso del álgebra y el cálculo tenemos que.\n",
    "\n",
    "$$\n",
    "\\theta=\\arctan \\left(\\frac{x-1}{1}\\right) \n",
    "$$\n",
    "\n",
    "donde tenemos que\n",
    "\n",
    "$$\n",
    "\\frac{d \\theta}{d x}=\\frac{1}{1+(x-1)^{2}}\n",
    "$$"
   ]
  },
  {
   "cell_type": "markdown",
   "id": "172cd1c0-a5e1-4bf9-8191-5b5a14c57ca3",
   "metadata": {},
   "source": [
    "Por un lado notemos que es necesario colocar $x-1$ dado que tenemos que ajustarnos al hecho de que nuestra linea tiene que tener como punto $(1,1)$ en vez de $(0,1)$. Por otro dado que el ángulo $\\theta$ es dibujado desde el intervalo abierto $(\\frac{-\\pi}{2},\\frac{\\pi}{2})$, dividiendo por $\\pi$ tenemos la distribución de probabilidad que necesitamos.\n",
    "\n",
    "$$\n",
    "\\frac{1}{\\pi} \\cdot \\frac{1}{1+(x-1)^{2}}\n",
    "$$\n"
   ]
  },
  {
   "cell_type": "markdown",
   "id": "4a87d17d-ea97-440e-984a-f2f03ef03573",
   "metadata": {},
   "source": [
    "Es importante ver que a pesar de que la distribución parece similar a una distribución normal en que ambas tienen forma acampanada, tiene unas colas considerablemente pesadas. Tambien la distribución tiene la forma de la \"Bruja de Agnesi\" con el único cambio de estar localizada una unidad a la derecha y estar renormalizada por la constante $\\frac{1}{\\pi}$.\n",
    "\n",
    "![](https://cdn.mathpix.com/snip/images/Ntq6NjTHIo1UdHoJ438XJlfjDeFCK3iqzZcf-r3uFUc.original.fullsize.png)\n",
    "\n",
    "Cuando se ve como una distribución de probabilidad, la Bruja es mejor conocida como la distribución de Cauchy, aunque el conocimiento de la curva geométrica que la define es anterior a Cauchy por un margen considerable."
   ]
  },
  {
   "cell_type": "markdown",
   "id": "76e0bb64-bd47-40fd-a12c-6c356969d99e",
   "metadata": {},
   "source": [
    "Con su forma simétrica simple, es sorprendente que la distribución de Cauchy no apareciera como un [distribución error] antes de 1824. Cuando realmente aparece es de la misma forma como la conocemos ahora, como el contra ejemplo de teoremas para los cuales es necesario almenos el primer momento de una variable aleatoria.\n",
    "\n",
    "La distribución de Cauchy aparece naturalmente como parte del movimiento hacia un mayor rigor en las matemáticas y de hecho se descubrió dos veces. En el caso de el segundo descubrimiento, el de Cauchy, la distribucipon aparece como un argumento que aún es tema de discusión y es ¿Cuan importante son las condiciones de regularidad en aplicaciónes prácticas y en que tanto peso deberia ser colocado en la teoría de muestras \"grandes\". "
   ]
  },
  {
   "cell_type": "markdown",
   "id": "9a8e6081-9be8-4c9c-9767-a16d024a890f",
   "metadata": {},
   "source": [
    "[Simeon D. Possion](https://en.wikipedia.org/wiki/Sim%C3%A9on_Denis_Poisson) parece ser el primero en notar que la distribución de probabilidad con la densidad $\\{\\pi(1+x^2)\\}^{-1}$ posee algunas propiedades peculiares y pueden producir contra-ejemplos a resultados estadísticos generalemente aceptados. Esto se puede ver en un [paper que publico en 1824](https://onlinelibrary.wiley.com/doi/abs/10.1002/andp.18240760304) que pretendia clarificar y extender el trabajo de Laplace´s en mínimos cuadrados. [Laplace](https://en.wikipedia.org/wiki/Pierre-Simon_Laplace) en 1810 dio una justificación en muestra grande del principio de los mínimos cuadrados, probando lo que hoy llamamos el Teorema Central del Límite y argumentando que si los mínimos cuadrados eran el mejor procedimiento con errores distribuidos normalmente, era lo mejor para cualquier distribución error, almenos para muestras grandes. Es caracteristico del trabajo de Laplace y de su tiempo  omitir condiciones irregulares, asumiendo que el erro en distribución es simétrico. \n",
    "\n",
    "En la revisión al trabajo de Laplace, Poisson pidio tener una atención especial a la densidad $\\{\\pi(1+x^2)\\}^{-1}$. Señalo que si la media se tomaba de un número $n$ de observaciones con errores distribuidos por $\\{\\pi(1+x^2)\\}^{-1}$, la media del error no convergeria a cero ni a ningún otro número a pesar que tendría la misma distribución sin importar el tamaño del $n$. Tambien presentó la función característica de la distribución de $\\{\\pi(1+x^2)\\}^{-1}$ afirmando que para éste caso el trabajo de la prueba de Laplace no podria efectuarse desde el segundo término de la [expansión de Laplace](https://en.wikipedia.org/wiki/Laplace_expansion).\n",
    "\n",
    "Apesar de que Poisson estaba tenia conocimiento de las dificultades  que pueden surgir en este caso particular, no le dio mucha importancia dado que escribió \n",
    "\n",
    "![](src/Captura.PNG)"
   ]
  },
  {
   "cell_type": "markdown",
   "id": "41105b35-8b39-4588-a129-f85a7f259b9e",
   "metadata": {},
   "source": [
    "Bienaymé y Cauchy\n",
    "\n",
    "[Augustin Louis Cauchy](https://en.wikipedia.org/wiki/Augustin-Louis_Cauchy) estuvo asociado con la distribución de Cauchy como el resultado de una disputa matemática que casi \"monopoliza\" las paginas de la revista [Comptes Rendus](https://en.wikipedia.org/wiki/Comptes_rendus_de_l'Acad%C3%A9mie_des_Sciences) durante julio y agosto de 1853. \n",
    "\n",
    "![](https://images-na.ssl-images-amazon.com/images/I/51pxB-u8y2L._SX292_BO1,204,203,200_.jpg)\n",
    "\n",
    "La disputa inicia con el artículo de [Iréne Jules Bienaymé](https://encyclopediaofmath.org/wiki/Bienaym%C3%A9,_Iren%C3%A9e-Jules) el cual en decia que el método de [interpolación](https://www.sciencedirect.com/science/article/pii/S0377042700003642) propuesto por Cauchy en 1835 entre otras cosas, estaba en conflicto con la teoria de la probabilidad dado que, en casos generales, no daba el mismo resultado como el método los mínimos cuadrados, por lo que no lleva a un resultado probable o ventajoso como si lo hacen los mínimos cuadrados. Bienaymé escribió  que seria muy considerable que se examinara esta cuestion dada la similitud del método de Cauchy con el de los mínimos cuadrados y despues, Bienaymé, pudiera hacer el análisis respectivo. "
   ]
  },
  {
   "cell_type": "markdown",
   "id": "c81d497d-dfdb-4f58-99cc-be4a631c1596",
   "metadata": {},
   "source": [
    "Cauchy no dejó que las declaraciones de Bienaymé quedaran sin respuesta. Entre el 18 de julio y 15 de septiembre de 1853 Cauchy publico siete  memorias en [Comptes Rendus]() relacionado con este hecho, donde Bienaymé respondió con comentarios en tres ocaciones y una publicación.\n",
    "\n",
    "Los puntos principales de esta argumento son los siguientes. Cauchy se sostenia que mientras que los dos métodos son diferentes, cada uno tiene sus ventajas y sus desventajas. Pero más concretamente, dijo, no es cierto que la teoría de la probabilidad otorgue una ventaja única a los mínimos cuadrados. Para probar este punto, Cauchy desarrolló funciones características como una herramienta, sin hacer referencia al uso extensivo de Laplace de ellas, y mostró que mientras que los mínimos cuadrados proporcionaban el valor \"más probable\" para los errores distribuidos normalmente, no lo hacía en otros casos.\n",
    "\n",
    "El mostró la densidad \n",
    "\n",
    "$$\n",
    "f(\\epsilon)=\\frac{k}{\\pi} \\frac{1}{1+k^{2} \\epsilon^{2}} \\quad (1)\n",
    "$$\n",
    "\n",
    "como una alternativa al caso, pero prestó gran atención a ella. La fuerza del argumento de Cauchy  fue que solo para las distribuciones normales, los mínimos cuadrados, era lo mejor. El fué más preocupado al darle un tratamiento más riguroso a las funciones características y defendió su esquema de interpolación más que atacar la prueba de Laplace. De hecho el núnca aludió las dificultades de grandes-muestras que **(1)** podría presentar, pero la trató como uno de los muchos casos, incluyendo la doble esponencial, que dejarian estimadores lineales diferentes desde los mínimos cuadrados.\n",
    "\n",
    "Bienaymé respondió que Cauchy en efecto negó la verdad del trabajo más importante de Laplace y que las publicaciones de Cauchy no justificaba la aserción para nada. Despues de mucho argumentos, más no rigorosos, para grandes-muestras el método de mínimos cuadrados  era la mejor linealización, incluso la función de pérdida. Bienaymé quiso decir tambien que Laplace implicitamente asumió que el segundo momento fuera finíto y probablemente se nego a decirlo explícitamente porque pensó que era evidente que las medidas fueron hechas por alguien, despues de todo, con algún conocimiento de medición; los errores estarían acotados y sus momentos finítos. La atención de Bienaymé por **(1)** fue dada luego de comentar de los grandes errores que produce y precentando una tabla corta de algunos de sus percentiles, Bienaymé escribió\n",
    "\n",
    "> \"Se debe reconocer que un instrumento afectado por una ley de probabilidad similar a esta no sería puesto a la venta por un artesano ordinario. No se sabría qué nombre darle a un establecimiento que lo construya.\"\n",
    "\n",
    "Finalmente, Bienaymé clamo que cuando Laplace uso las palabras \"una función cualquiera\" el debia referirse a solo esas densidades capases de dar medidas con alguna precisión, y no se refería a funciones como **(1)**, pero lo omitió porque no ocurre en la práctica. Cerrando así invocando la autoridad de Legendre, Gauss, Laplace y Bessel como amplia justificación de los mínimos cuadrados. \n",
    "\n",
    "El debate fue corto pero activo. Cauchy se defendio con su esquema de interpolación y usando sus grandes habilidades en análisis para probar que los mínimos cuadrados no tenían un monopolio en la estimación lineal; un monopolio que Laplace no a clamado aún y Bienaymé se sintió obligado a defender. Bienaymé, por otro lado, argumento en defender la autoridad de Laplace, armado con el deseo de no permitir que condiciones regulares interfirienran con lo que para el eran verdades prácticas.\n",
    "\n",
    "No se puede decir que algúno gano el debate, dado que se argumentaron desde diferentes premisas y ambos estaban en lo cierto. Bienaymé clamando la superioridad de las grandes-muestras en los mínimos cuadrados, atravez de todos los estimadores lineales, excepto en casos como (1), y Cauchy al afirmar que los mínimos cuadrados son los mejores, en efecto de máxima verosimilitud, entre todos los estimadores lineales para solo una de una infinidad de distribuciones. Ambos desarrollaron más ideas en otras publicaciones sin llegar a tener misivas uno del otro. Es irónico que en las últimas series de publicaciones Cauchy dió una prueba rigurosa del Teorema del Límite Central y prometió explorar en implicaciones estadísticas a futuro, quizas por no moverse peligrosamente cerca a la posición de antagonista.\n",
    "\n",
    "Poisson ciertamente descubrió la distribución de Cauchy antes que Cauchy lo hiciera, pero la atención a esta se dio al creciente rigor matemático del siglo 19. Cauchy no es un estadítico, su trabajo recolectado son 27 volumenes y sus 7 memorias en Comptes Rendus son más que unos papers en estadística. "
   ]
  },
  {
   "cell_type": "markdown",
   "id": "1a7a5a14-5d88-4096-a4cf-027030e8039d",
   "metadata": {},
   "source": []
  },
  {
   "cell_type": "markdown",
   "id": "46a2e99d-e489-43d9-9678-9ff7846c700c",
   "metadata": {},
   "source": []
  },
  {
   "cell_type": "markdown",
   "id": "956077be-0152-46e6-904c-d62fd6909c55",
   "metadata": {},
   "source": []
  }
 ],
 "metadata": {
  "kernelspec": {
   "display_name": "Python 3 (ipykernel)",
   "language": "python",
   "name": "python3"
  },
  "language_info": {
   "codemirror_mode": {
    "name": "ipython",
    "version": 3
   },
   "file_extension": ".py",
   "mimetype": "text/x-python",
   "name": "python",
   "nbconvert_exporter": "python",
   "pygments_lexer": "ipython3",
   "version": "3.9.7"
  }
 },
 "nbformat": 4,
 "nbformat_minor": 5
}
